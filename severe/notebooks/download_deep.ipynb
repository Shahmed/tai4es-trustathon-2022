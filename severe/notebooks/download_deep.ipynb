{
 "cells": [
  {
   "cell_type": "markdown",
   "id": "5513a51c",
   "metadata": {},
   "source": [
    "## Download Deep Learning Models and their Data. \n",
    "\n",
    "This notebook downloads the image-based sub-sevir data and pre-trained models for the deep learning explainability component of the summer school trust-a-thon. "
   ]
  },
  {
   "cell_type": "code",
   "execution_count": null,
   "id": "c4e83572",
   "metadata": {},
   "outputs": [],
   "source": [
    "# @title Downloads and installs\n",
    "#%%capture \n",
    "#download file\n",
    "!echo 'Installing gdown...'\n",
    "!pip install gdown\n",
    "\n",
    "!echo 'Grabbing sub-sevir...'\n",
    "!gdown 1K-JpG8x7Rlknd_Xc9Y4kmyo9HNXHEasH\n",
    "!echo 'Done'\n",
    "\n",
    "!echo 'Grabbing trained models...'\n",
    "!gdown 1n3Lf1SfWsMjGgq3DG_k6B7HoiWjRxyVI\n",
    "!echo 'Done'\n",
    "\n",
    "#unpack \n",
    "!echo 'Unpacking files...'\n",
    "!tar -xf sub-sevir.tar.gz \n",
    "!tar -xf ./sub-sevir/sub-sevir-train.tar.gz -C ./sub-sevir/ \n",
    "!tar -xf ./sub-sevir/sub-sevir-val.tar.gz  -C ./sub-sevir/\n",
    "!tar -xf ./sub-sevir/sub-sevir-test.tar.gz  -C ./sub-sevir/\n",
    "\n",
    "!tar -xf trained-deep-learning-models.tar.gz \n",
    "\n",
    "# Move the models to the models dir\n",
    "!mv *.h5 ../models/.\n",
    "\n",
    "# Move the data to the data dir \n",
    "!cp -r sub-sevir/* ../datasets/.\n",
    "!rm -r sub-sevir\n",
    "\n",
    "!rm -f trained-deep-learning-models.tar.gz\n",
    "!rm -f sub-sevir.tar.gz\n",
    "\n",
    "!echo 'Done'\n",
    "\n",
    "# install zarr <-- needed to open sub-sevir\n",
    "!echo 'installing zarr'\n",
    "!pip -q install zarr \n",
    "!echo 'Done'\n",
    "\n",
    "!echo 'installing shap'\n",
    "!pip install shap\n",
    "!echo 'Done'\n",
    "\n",
    "!pip install cmocean"
   ]
  }
 ],
 "metadata": {
  "kernelspec": {
   "display_name": "Python 3 (ipykernel)",
   "language": "python",
   "name": "python3"
  },
  "language_info": {
   "codemirror_mode": {
    "name": "ipython",
    "version": 3
   },
   "file_extension": ".py",
   "mimetype": "text/x-python",
   "name": "python",
   "nbconvert_exporter": "python",
   "pygments_lexer": "ipython3",
   "version": "3.8.13"
  }
 },
 "nbformat": 4,
 "nbformat_minor": 5
}
