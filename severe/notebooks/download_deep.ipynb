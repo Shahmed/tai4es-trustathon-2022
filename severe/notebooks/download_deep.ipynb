{
 "cells": [
  {
   "cell_type": "markdown",
   "id": "5513a51c",
   "metadata": {},
   "source": [
    "## Download Deep Learning Models and their Data. \n",
    "\n",
    "This notebook downloads the image-based sub-sevir data and pre-trained models for the deep learning explainability component of the summer school trust-a-thon. "
   ]
  },
  {
   "cell_type": "code",
   "execution_count": 1,
   "id": "89936526",
   "metadata": {},
   "outputs": [
    {
     "name": "stdout",
     "output_type": "stream",
     "text": [
      "Grabbing sub-sevir...\n",
      "Downloading...\n",
      "From: https://drive.google.com/uc?id=1K-JpG8x7Rlknd_Xc9Y4kmyo9HNXHEasH\n",
      "To: /Users/monte.flora/tai4es-trustathon-2022/severe/notebooks/sub-sevir.tar.gz\n",
      "100%|██████████████████████████████████████| 1.97G/1.97G [09:21<00:00, 3.52MB/s]\n",
      "Done\n",
      "Grabbing trained models...\n",
      "Downloading...\n",
      "From: https://drive.google.com/uc?id=1n3Lf1SfWsMjGgq3DG_k6B7HoiWjRxyVI\n",
      "To: /Users/monte.flora/tai4es-trustathon-2022/severe/notebooks/trained-deep-learning-models.tar.gz\n",
      "100%|██████████████████████████████████████| 43.4M/43.4M [00:12<00:00, 3.55MB/s]\n",
      "Done\n",
      "Unpacking files...\n",
      "mv: illegal option -- r\n",
      "usage: mv [-f | -i | -n] [-v] source target\n",
      "       mv [-f | -i | -n] [-v] source ... directory\n",
      "Done\n",
      "installing zarr\n",
      "Done\n",
      "installing shap\n",
      "Requirement already satisfied: shap in /Users/monte.flora/miniconda3/envs/ai2es/lib/python3.8/site-packages (0.40.0)\n",
      "Requirement already satisfied: numpy in /Users/monte.flora/miniconda3/envs/ai2es/lib/python3.8/site-packages (from shap) (1.22.3)\n",
      "Requirement already satisfied: scipy in /Users/monte.flora/miniconda3/envs/ai2es/lib/python3.8/site-packages (from shap) (1.8.0)\n",
      "Requirement already satisfied: cloudpickle in /Users/monte.flora/miniconda3/envs/ai2es/lib/python3.8/site-packages (from shap) (2.0.0)\n",
      "Requirement already satisfied: packaging>20.9 in /Users/monte.flora/miniconda3/envs/ai2es/lib/python3.8/site-packages (from shap) (21.3)\n",
      "Requirement already satisfied: slicer==0.0.7 in /Users/monte.flora/miniconda3/envs/ai2es/lib/python3.8/site-packages (from shap) (0.0.7)\n",
      "Requirement already satisfied: numba in /Users/monte.flora/miniconda3/envs/ai2es/lib/python3.8/site-packages (from shap) (0.53.1)\n",
      "Requirement already satisfied: scikit-learn in /Users/monte.flora/miniconda3/envs/ai2es/lib/python3.8/site-packages (from shap) (1.1.1)\n",
      "Requirement already satisfied: pandas in /Users/monte.flora/miniconda3/envs/ai2es/lib/python3.8/site-packages (from shap) (1.4.2)\n",
      "Requirement already satisfied: tqdm>4.25.0 in /Users/monte.flora/miniconda3/envs/ai2es/lib/python3.8/site-packages (from shap) (4.64.0)\n",
      "Requirement already satisfied: pyparsing!=3.0.5,>=2.0.2 in /Users/monte.flora/miniconda3/envs/ai2es/lib/python3.8/site-packages (from packaging>20.9->shap) (3.0.9)\n",
      "Requirement already satisfied: llvmlite<0.37,>=0.36.0rc1 in /Users/monte.flora/miniconda3/envs/ai2es/lib/python3.8/site-packages (from numba->shap) (0.36.0)\n",
      "Requirement already satisfied: setuptools in /Users/monte.flora/miniconda3/envs/ai2es/lib/python3.8/site-packages (from numba->shap) (62.2.0)\n",
      "Requirement already satisfied: python-dateutil>=2.8.1 in /Users/monte.flora/miniconda3/envs/ai2es/lib/python3.8/site-packages (from pandas->shap) (2.8.2)\n",
      "Requirement already satisfied: pytz>=2020.1 in /Users/monte.flora/miniconda3/envs/ai2es/lib/python3.8/site-packages (from pandas->shap) (2022.1)\n",
      "Requirement already satisfied: threadpoolctl>=2.0.0 in /Users/monte.flora/miniconda3/envs/ai2es/lib/python3.8/site-packages (from scikit-learn->shap) (3.1.0)\n",
      "Requirement already satisfied: joblib>=1.0.0 in /Users/monte.flora/miniconda3/envs/ai2es/lib/python3.8/site-packages (from scikit-learn->shap) (1.1.0)\n",
      "Requirement already satisfied: six>=1.5 in /Users/monte.flora/miniconda3/envs/ai2es/lib/python3.8/site-packages (from python-dateutil>=2.8.1->pandas->shap) (1.16.0)\n",
      "Done\n",
      "Requirement already satisfied: cmocean in /Users/monte.flora/miniconda3/envs/ai2es/lib/python3.8/site-packages (2.0)\n"
     ]
    }
   ],
   "source": [
    "# @title Downloads and installs\n",
    "#%%capture \n",
    "#download file\n",
    "!echo 'Grabbing sub-sevir...'\n",
    "!gdown 1K-JpG8x7Rlknd_Xc9Y4kmyo9HNXHEasH\n",
    "!echo 'Done'\n",
    "\n",
    "!echo 'Grabbing trained models...'\n",
    "!gdown 1n3Lf1SfWsMjGgq3DG_k6B7HoiWjRxyVI\n",
    "!echo 'Done'\n",
    "\n",
    "#unpack \n",
    "!echo 'Unpacking files...'\n",
    "!tar -xf sub-sevir.tar.gz \n",
    "!tar -xf ./sub-sevir/sub-sevir-train.tar.gz -C ./sub-sevir/ \n",
    "!tar -xf ./sub-sevir/sub-sevir-val.tar.gz  -C ./sub-sevir/\n",
    "!tar -xf ./sub-sevir/sub-sevir-test.tar.gz  -C ./sub-sevir/\n",
    "\n",
    "!tar -xf trained-deep-learning-models.tar.gz \n",
    "\n",
    "# Move the models to the models dir\n",
    "!mv *.h5 ../models/.\n",
    "\n",
    "# Move the data to the data dir \n",
    "!cp -r sub-sevir/ ../datasets/.\n",
    "!rm -r sub-sevir\n",
    "\n",
    "!rm -f trained-deep-learning-models.tar.gz\n",
    "!rm -f sub-sevir.tar.gz\n",
    "\n",
    "!echo 'Done'\n",
    "\n",
    "# install zarr <-- needed to open sub-sevir\n",
    "!echo 'installing zarr'\n",
    "!pip -q install zarr \n",
    "!echo 'Done'\n",
    "\n",
    "!echo 'installing shap'\n",
    "!pip install shap\n",
    "!echo 'Done'\n",
    "\n",
    "!pip install cmocean"
   ]
  }
 ],
 "metadata": {
  "kernelspec": {
   "display_name": "Python 3 (ipykernel)",
   "language": "python",
   "name": "python3"
  },
  "language_info": {
   "codemirror_mode": {
    "name": "ipython",
    "version": 3
   },
   "file_extension": ".py",
   "mimetype": "text/x-python",
   "name": "python",
   "nbconvert_exporter": "python",
   "pygments_lexer": "ipython3",
   "version": "3.8.13"
  }
 },
 "nbformat": 4,
 "nbformat_minor": 5
}
