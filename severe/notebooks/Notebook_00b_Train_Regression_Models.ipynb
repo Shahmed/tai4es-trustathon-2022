{
 "cells": [
  {
   "cell_type": "markdown",
   "id": "92442364",
   "metadata": {},
   "source": [
    "##  Notebook 00b: sub-SEVIR Regression ML Models \n",
    "\n",
    "### Goal: Train and evaluate regression ML models on the sub-SEVIR dataset \n",
    "\n",
    "In this notebook, we train and evaluate regression machine learning (ML) models on the sub-SEVIR dataset. sub-SEVIR is a lower-resolution version of the Storm Event Imagery Dataset. The new spatial resolution is 8 km with a 60 min timestep resolution for each event. Our goal is to train a regression model to predict the number of lightning flashes. \n",
    "\n",
    "For simplicity, we limited our model selection to linear regression, random forests, and gradient-boosted trees. For each model, the default hyperparameters were used. "
   ]
  },
  {
   "cell_type": "markdown",
   "id": "dcce68c6",
   "metadata": {},
   "source": [
    "#### Import the neccesary packages"
   ]
  },
  {
   "cell_type": "code",
   "execution_count": 1,
   "id": "1767e0a0",
   "metadata": {},
   "outputs": [],
   "source": [
    "import pandas as pd\n",
    "from sklearn.ensemble import RandomForestRegressor, HistGradientBoostingRegressor\n",
    "from sklearn.linear_model import LinearRegression\n",
    "from sklearn.preprocessing import StandardScaler, MinMaxScaler\n",
    "from sklearn.compose import TransformedTargetRegressor\n",
    "from sklearn.pipeline import Pipeline \n",
    "import joblib"
   ]
  },
  {
   "cell_type": "code",
   "execution_count": 2,
   "id": "9fd02284",
   "metadata": {},
   "outputs": [],
   "source": [
    "import sys,os\n",
    "top_path = os.path.dirname(os.getcwd())\n",
    "sys.path.append(os.path.join(top_path,'scripts/'))\n",
    "\n",
    "# Plots ROC, performance, and reliability diagram given a model, X, and y\n",
    "from verification import plot_taylor_diagram, plot_verification_scatter\n",
    "from util import load_ml_data "
   ]
  },
  {
   "cell_type": "markdown",
   "id": "f867db67",
   "metadata": {},
   "source": [
    "### Load the data \n",
    "\n",
    "We have provided a IO function for loading the ML data. Uncomment the following cell and execute it to learn more about the input arguments. "
   ]
  },
  {
   "cell_type": "code",
   "execution_count": 3,
   "id": "55017a8d",
   "metadata": {},
   "outputs": [],
   "source": [
    "X_train, y_train, X_val, y_val, X_test, y_test = load_ml_data(task='regression')"
   ]
  },
  {
   "cell_type": "markdown",
   "id": "90fb40e9",
   "metadata": {},
   "source": [
    "### Create the model pipelines and fit the models\n",
    "\n",
    "When training ML models, we often have to pre-processing the data. For this example, we want to scaling the data so that each feature has a mean of zero and variance of 1. Scikit-learn has a great feature known as [Pipeline](https://scikit-learn.org/stable/modules/generated/sklearn.pipeline.Pipeline.html) where the pre-processing is incorporated into the model. Thus, when you call `.predict` or `.predict_proba`, the pre-processing is applied internally. \n"
   ]
  },
  {
   "cell_type": "code",
   "execution_count": null,
   "id": "7ca801cb",
   "metadata": {},
   "outputs": [],
   "source": [
    "# Make a pipeline. \n",
    "steps = [('StandardScaler', StandardScaler())]\n",
    "\n",
    "regs = [( 'LR', LinearRegression()), \n",
    "        ( 'GBT', HistGradientBoostingRegressor()), \n",
    "        ( 'RF', RandomForestRegressor())\n",
    "       ]\n",
    "\n",
    "fit_regs = [(e[0], Pipeline(steps+[e]).fit(X_train, y_train)) for e in regs]"
   ]
  },
  {
   "cell_type": "markdown",
   "id": "3a9dca93",
   "metadata": {},
   "source": [
    "### Verification Step 1. Plot the scatter\n",
    "\n",
    "For initial verification, it is useful to plot the predict and true flash amounts. "
   ]
  },
  {
   "cell_type": "code",
   "execution_count": null,
   "id": "5642e5f2",
   "metadata": {},
   "outputs": [],
   "source": [
    "plot_verification_scatter(fit_regs, X_test, y_test, add_kde=False)"
   ]
  },
  {
   "cell_type": "markdown",
   "id": "d8431cf6",
   "metadata": {},
   "source": [
    "### Verification Step 2. Plot the Taylor Diagram \n",
    "\n",
    "The Taylor diagram shows multiple regression statistics on a single diagram. The following statistics are shown:\n",
    "1. Standard Deviation (radial distance from origin)\n",
    "    * The prediction variance should capture the variance in the target variable. Additionally, RMSE can be biased low if the prediction variance is underpredicted. \n",
    "\n",
    "2. Correlation (angle from the x-axis)\n",
    "    * Ideally, the prediction should be linearly correlated with the target variable.\n",
    "3. Centered Root Mean Squared Error (RMSE; radially distance from the star)\n",
    "    * The centered RMSE can be though of the RMSE after being corrected for bias, so it tends to be lower than the actual RMSE. \n",
    "4. Bias (difference between target mean and prediction mean; color coding of the dot)\n",
    "    * Ideally, bias should be zero. \n",
    "\n",
    "All three models are well correlated with the target variable, but are underpredicting the true spread and have a small, negative bias. The cRMSE is 125 flashes. \n"
   ]
  },
  {
   "cell_type": "code",
   "execution_count": null,
   "id": "25259761",
   "metadata": {},
   "outputs": [],
   "source": [
    "plot_taylor_diagram(fit_regs, X_test, y_test.values, n_boot=10)"
   ]
  },
  {
   "cell_type": "markdown",
   "id": "3f6ac92c",
   "metadata": {},
   "source": [
    "### Save the models using joblib"
   ]
  },
  {
   "cell_type": "code",
   "execution_count": null,
   "id": "e0e0cc0f",
   "metadata": {},
   "outputs": [],
   "source": [
    "import joblib \n",
    "from os.path import join\n",
    "\n",
    "# Save the models \n",
    "path = '../models'\n",
    "for name, reg in fit_regs:\n",
    "    joblib.dump(reg, join(path, f'{name}_regression.joblib'), compress=3)"
   ]
  }
 ],
 "metadata": {
  "kernelspec": {
   "display_name": "Python 3 (ipykernel)",
   "language": "python",
   "name": "python3"
  },
  "language_info": {
   "codemirror_mode": {
    "name": "ipython",
    "version": 3
   },
   "file_extension": ".py",
   "mimetype": "text/x-python",
   "name": "python",
   "nbconvert_exporter": "python",
   "pygments_lexer": "ipython3",
   "version": "3.8.13"
  }
 },
 "nbformat": 4,
 "nbformat_minor": 5
}
