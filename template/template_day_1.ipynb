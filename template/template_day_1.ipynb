{
 "cells": [
  {
   "cell_type": "markdown",
   "source": [
    "# TAI4ES Summer School Template Day 1\n",
    "\n",
    "## Activities\n",
    "1. Introduction to problem.\n",
    "a. Read problem description and the description of potential users of this product.\n",
    "Come up with a suite of fictional users with different needs.\n",
    "b. Load data and models\n",
    "c. Make plots of data and model predictions. Animations of predictions\n",
    "2. Discussion of what trustworthiness factors are important for this problem. What are some potential ethics and bias issues?\n",
    "3. Evaluation statistics\n",
    "a. Calculate appropriate evaluation statistics for each model in the model suite.\n",
    "b. Are performance rankings consistent across metrics?\n",
    "c. Are there any overall biases associated with any models?\n",
    "d. Calculating the scores by regime\n",
    "Discussion: What do the bulk evaluation statistics not tell you about the model performance? How did the regime statistics provide additional insight on model performance? What metrics would you want to show to users to encourage trust or discourage trust?\n",
    "4. Basic XAI\n",
    "All methods discussed are available in the scikit-explain package\n",
    "[15 min] Flavors of Permutation Importance\n",
    "Backward vs. Forward\n",
    "Single pass vs. Multipass\n",
    "Grouped\n",
    "[15 min] Feature Effects\n",
    "Partial Dependence and Individual Conditional Expectations\n",
    "Accumulated Local Effects\n",
    "[15 min] Feature Attributions\n",
    "SHAP\n",
    "LIME\n",
    "Tree Interpreter (if we plan on including random forests)\n",
    "Issues: pick methods that are quicker, use data subsets, or load pre-cooked scores for each model.\n",
    "Discussion: How would you explain one or two of these XAI methods to each of your potential users? Which XAI method would be best suited for each user?"
   ],
   "metadata": {
    "collapsed": false,
    "pycharm": {
     "name": "#%% md\n"
    }
   }
  },
  {
   "cell_type": "code",
   "execution_count": null,
   "outputs": [],
   "source": [],
   "metadata": {
    "collapsed": false,
    "pycharm": {
     "name": "#%%\n"
    }
   }
  }
 ],
 "metadata": {
  "kernelspec": {
   "display_name": "Python 3",
   "language": "python",
   "name": "python3"
  },
  "language_info": {
   "codemirror_mode": {
    "name": "ipython",
    "version": 2
   },
   "file_extension": ".py",
   "mimetype": "text/x-python",
   "name": "python",
   "nbconvert_exporter": "python",
   "pygments_lexer": "ipython2",
   "version": "2.7.6"
  }
 },
 "nbformat": 4,
 "nbformat_minor": 0
}