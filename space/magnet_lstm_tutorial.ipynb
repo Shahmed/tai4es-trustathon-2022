{
 "cells": [
  {
   "cell_type": "markdown",
   "metadata": {
    "id": "uKpOdQvxbeB4"
   },
   "source": [
    "# MagNet: Model the Geomagnetic Field:\n",
    "This notebook describes the benchmark LSTM model for the NOAA MagNet challenge."
   ]
  },
  {
   "cell_type": "markdown",
   "metadata": {
    "id": "v003LoxwbeB6"
   },
   "source": [
    "## Acknowledgements:\n",
    "\n",
    "Author: Rob Redmon\n",
    "\n",
    "Points of contact: Rob Redmon and Manoj Nair at NOAA.gov\n",
    "\n",
    "Topics on Explainable AI (XAI) (e.g. Feature Importance, Case Studies) are new and were created for the NCAR and [AI2ES](https://www.ai2es.org/) Trustworthy Artificial Intelligence for Environmental Science Summer School ([TAI4ES](https://www2.cisl.ucar.edu/events/tai4es-2022-summer-school)). Code through model training adapted from DrivenData blogpost supporting NOAA's MagNet crowd sourced challenge. \n",
    "* https://ngdc.noaa.gov/geomag/mag-net-challenge.html\n",
    "* https://www.drivendata.co/blog/model-geomagnetic-field-benchmark/\n",
    "\n",
    "Documentation aligned with and adapted from:\n",
    "https://github.com/liyo6397/MagNet/blob/master/magnet_cnn_tutorial.ipynb\n",
    "(See also that repository for additional architectures including the MagNet challenge winning solutions, e.g. the CNN ensemble using cross-validation-folds approach)."
   ]
  },
  {
   "cell_type": "markdown",
   "metadata": {
    "id": "kRzCSuRwbeB7"
   },
   "source": [
    "## Background on Geospace Space Weather\n",
    "\n",
    "TODO: Describe the basics of the solar wind impinging on Geospace and the range of potential effects to humans and technological systems. Link to SWPC dashboards.\n",
    "\n",
    "![HELIO_GRAPHIC_URL](https://ngdc.noaa.gov/geomag/img/challenge-banner.png \"HELIO\")"
   ]
  },
  {
   "cell_type": "markdown",
   "metadata": {
    "id": "YIeZxbJXbeB7"
   },
   "source": [
    "## Background on the Geomagnetic Field\n",
    "\n",
    "The efficient transfer of energy from solar wind into the Earth’s magnetic field causes geomagnetic storms. The resulting variations in the magnetic field increase errors in magnetic navigation. The disturbance-storm-time index, or Dst, is a measure of the severity of the geomagnetic storm.\n",
    "\n",
    "As a key specification of the magnetospheric dynamics, the Dst index is used to drive geomagnetic disturbance models such as NOAA/NCEI’s High Definition Geomagnetic Model - Real-Time (HDGM-RT).\n",
    "![HDGMRT_GRAPHIC_URL](https://www.ngdc.noaa.gov/geomag/HDGM/images/HDGM-RT_2003_storm_720p.gif \"HDGM-RT\")\n",
    " \n",
    "In 2020-2021, NOAA and NASA conducted an international crowd sourced data science competition “MagNet: Model the Geomagnetic Field”:\n",
    "https://www.drivendata.org/competitions/73/noaa-magnetic-forecasting/\n",
    " \n",
    "Empirical models have been proposed as early as in 1975 to forecast DST solely from solar-wind observations at the Lagrangian (L1) position by satellites such as NOAA’s Deep Space Climate Observatory (DSCOVR) or NASA's Advanced Composition Explorer (ACE). Over the past three decades, several models were proposed for solar wind forecasting of DST, including empirical, physics-based, and machine learning approaches. While the ML models generally perform better than models based on the other approaches, there is still room to improve, especially when predicting extreme events. More importantly, we intentionally sought solutions that work on the raw, real-time data streams and are agnostic to sensor malfunctions and noise."
   ]
  },
  {
   "cell_type": "markdown",
   "metadata": {
    "id": "CdZDisojbeB8"
   },
   "source": [
    "## Modeling Task\n",
    "\n",
    "The MagNet competition task was to develop models for forecasting DST that push the boundary of predictive performance, under operationally viable constraints, using the real-time solar-wind (RTSW) data feeds from NOAA’s DSCOVR and NASA’s ACE satellites. Improved models can provide more advanced warning of geomagnetic storms and reduce errors in magnetic navigation systems. Specifically, given one week of data ending at t minus 1 minute, the model must forecast DST at time t and t plus one hour.\n",
    "\n",
    "The model described in this notebook is the benchmark model provided by the MagNet competition organizers. Long Short Term Memory networks or LSTMs are a special kind of recurrent neural network especially suited to time series data. In the related notebook, we will show you how to implement a first-pass LSTM model for predicting Dst."
   ]
  },
  {
   "cell_type": "markdown",
   "metadata": {
    "id": "kJQsAZGlbeB8"
   },
   "source": [
    "## Data Notes\n",
    "\n",
    "The target DST values are measured by 4 ground-based observatories near the equator. These values are then averaged to provide a measurement of DST for any given hour.\n",
    "To ensure similar distributions between the training and test data, the data is separated into three non-contiguous periods. All data are provided with a `period` and `timedelta` multi-index which indicates the relative timestep for each observation within a period, but not the real timestamp. The period identifiers and timedeltas are common across datasets.\n",
    "\n",
    "There are 3 sources of input data:\n",
    "* Measurements of the solar wind, including direction, speed, density and temperature, at 1-minute frequency.\n",
    "* Position of the satellite used for solar wind measurements (this was not used in our solution, since we found it did not improve the model).\n",
    "* Number of sunspots, measured monthly.\n",
    "\n",
    "TODO: Add a stack plot for a typical event from solar wind to Dst, Kp, AE."
   ]
  },
  {
   "cell_type": "markdown",
   "metadata": {
    "id": "GCrRyAmibeB9"
   },
   "source": [
    "## Python Requirements\n",
    "\n",
    "<div class=\"alert alert-block alert-warning\">\n",
    "These dependencies are required:\n",
    "\n",
    "TODO add Python version and modules list\n",
    "</div>"
   ]
  },
  {
   "cell_type": "markdown",
   "metadata": {
    "id": "CIW7NwlGbeB9"
   },
   "source": [
    "# Acquire and Explore Data"
   ]
  },
  {
   "cell_type": "markdown",
   "metadata": {},
   "source": [
    "## Essential Modules and Basic Configuration"
   ]
  },
  {
   "cell_type": "code",
   "execution_count": 43,
   "metadata": {
    "id": "FAfVA3auHLoA"
   },
   "outputs": [],
   "source": [
    "from pathlib import Path\n",
    "\n",
    "import numpy as np, pandas as pd, pprint\n",
    "import matplotlib.pyplot as plt\n",
    "\n",
    "#%load_ext nb_black                # Nice for iPython, not available for Colab.\n",
    "#%matplotlib inline                 # For iPython\n",
    "\n",
    "import matplotlib.pyplot as plt"
   ]
  },
  {
   "cell_type": "code",
   "execution_count": 44,
   "metadata": {},
   "outputs": [],
   "source": [
    "# Matplotlib Configuration\n",
    "font = {'family' : 'sans-serif',\n",
    "        'weight' : 'normal',\n",
    "        'size'   : 14}\n",
    "plt.rc('font', **font)"
   ]
  },
  {
   "cell_type": "markdown",
   "metadata": {
    "id": "5WEhRi6RMX0o"
   },
   "source": [
    "## Data Summary\n",
    "The competition discussed above used <i>public</i> data for development and the public leaderboard. A <i>private</i> dataset was kept internal during the competition for use in scoring by organizers. Since the competition has passed, both datasets are publicly accessible from NOAA. We will build and evaulate the model using the competition's <i>public</i> data and evaluate storm event case studies using the competition's <i>private</i> data. "
   ]
  },
  {
   "cell_type": "code",
   "execution_count": 45,
   "metadata": {
    "id": "oZr5XUQBHeTH"
   },
   "outputs": [],
   "source": [
    "%%capture captured_io\n",
    "%%bash\n",
    "\n",
    "# Download data we need. If a directory \"data/\" already exists, we'll assume the data are already downloaded.\n",
    "#      The above \"magic\" statements are used to capture shell in/out and to run the following Bash commands.\n",
    "if [ ! -d \"data\" ]; then\n",
    "  wget --verbose https://ngdc.noaa.gov/geomag/data/geomag/magnet/public.zip\n",
    "  wget --verbose https://ngdc.noaa.gov/geomag/data/geomag/magnet/private.zip\n",
    "  unzip public.zip\n",
    "  unzip private.zip\n",
    "  mkdir -v data\n",
    "  mv -v public private data/\n",
    "  mv -v public.zip private.zip data/\n",
    "fi\n",
    "# Uncomment for debugging if you have trouble downloading:\n",
    "#print(captured_io)"
   ]
  },
  {
   "cell_type": "markdown",
   "metadata": {},
   "source": [
    "### Import our Input (Feature) and Output (Label) data as Pandas DataFrames\n",
    "As described above, the input data is a time series of solar wind measurements at L1 along with sunspot number, and the output data is a time series of <i>Dst</i>. "
   ]
  },
  {
   "cell_type": "code",
   "execution_count": 46,
   "metadata": {
    "id": "eDhdRHr-IP9-"
   },
   "outputs": [],
   "source": [
    "# Import as Pandas DataFrames\n",
    "DATA_PATH = Path(\"data/public/\")\n",
    "\n",
    "dst = pd.read_csv(DATA_PATH / \"dst_labels.csv\")\n",
    "dst.timedelta = pd.to_timedelta(dst.timedelta)\n",
    "dst.set_index([\"period\", \"timedelta\"], inplace=True)\n",
    "\n",
    "sunspots = pd.read_csv(DATA_PATH / \"sunspots.csv\")\n",
    "sunspots.timedelta = pd.to_timedelta(sunspots.timedelta)\n",
    "sunspots.set_index([\"period\", \"timedelta\"], inplace=True)\n",
    "\n",
    "solar_wind = pd.read_csv(DATA_PATH / \"solar_wind.csv\")\n",
    "solar_wind.timedelta = pd.to_timedelta(solar_wind.timedelta)\n",
    "solar_wind.set_index([\"period\", \"timedelta\"], inplace=True)\n",
    "\n",
    "satellite_positions = pd.read_csv(DATA_PATH / \"satellite_positions.csv\")\n",
    "satellite_positions.timedelta = pd.to_timedelta(satellite_positions.timedelta)\n",
    "satellite_positions.set_index([\"period\", \"timedelta\"], inplace=True)"
   ]
  },
  {
   "cell_type": "markdown",
   "metadata": {
    "id": "AVRI8V_AI3NS"
   },
   "source": [
    "## Data Exploration\n",
    "We'll explore our input (feature) and output (label) data to better understand it's data architecture, statistical description and basic input-output relationships."
   ]
  },
  {
   "cell_type": "markdown",
   "metadata": {},
   "source": [
    "### Disturbance Storm-Time Index (<i>Dst</i>)"
   ]
  },
  {
   "cell_type": "code",
   "execution_count": 47,
   "metadata": {
    "colab": {
     "base_uri": "https://localhost:8080/",
     "height": 0
    },
    "id": "FUv_uzLiI7tP",
    "outputId": "ce6a122c-7344-4273-f8cd-877230380529"
   },
   "outputs": [
    {
     "name": "stdout",
     "output_type": "stream",
     "text": [
      "Dst shape:  (139872, 1)\n"
     ]
    },
    {
     "data": {
      "text/html": [
       "<div>\n",
       "<style scoped>\n",
       "    .dataframe tbody tr th:only-of-type {\n",
       "        vertical-align: middle;\n",
       "    }\n",
       "\n",
       "    .dataframe tbody tr th {\n",
       "        vertical-align: top;\n",
       "    }\n",
       "\n",
       "    .dataframe thead th {\n",
       "        text-align: right;\n",
       "    }\n",
       "</style>\n",
       "<table border=\"1\" class=\"dataframe\">\n",
       "  <thead>\n",
       "    <tr style=\"text-align: right;\">\n",
       "      <th></th>\n",
       "      <th></th>\n",
       "      <th>dst</th>\n",
       "    </tr>\n",
       "    <tr>\n",
       "      <th>period</th>\n",
       "      <th>timedelta</th>\n",
       "      <th></th>\n",
       "    </tr>\n",
       "  </thead>\n",
       "  <tbody>\n",
       "    <tr>\n",
       "      <th rowspan=\"3\" valign=\"top\">train_a</th>\n",
       "      <th>0 days 00:00:00</th>\n",
       "      <td>-7</td>\n",
       "    </tr>\n",
       "    <tr>\n",
       "      <th>0 days 01:00:00</th>\n",
       "      <td>-10</td>\n",
       "    </tr>\n",
       "    <tr>\n",
       "      <th>0 days 02:00:00</th>\n",
       "      <td>-10</td>\n",
       "    </tr>\n",
       "  </tbody>\n",
       "</table>\n",
       "</div>"
      ],
      "text/plain": [
       "                         dst\n",
       "period  timedelta           \n",
       "train_a 0 days 00:00:00   -7\n",
       "        0 days 01:00:00  -10\n",
       "        0 days 02:00:00  -10"
      ]
     },
     "execution_count": 47,
     "metadata": {},
     "output_type": "execute_result"
    }
   ],
   "source": [
    "# The structure of our output (label) data, Dst time series:\n",
    "print(\"Dst shape: \", dst.shape)\n",
    "dst.head(n=3)"
   ]
  },
  {
   "cell_type": "code",
   "execution_count": 48,
   "metadata": {
    "colab": {
     "base_uri": "https://localhost:8080/",
     "height": 0
    },
    "id": "GT3SUvxBJJyL",
    "outputId": "57e201f1-61ab-42d1-c5de-3935bd9aeb78"
   },
   "outputs": [
    {
     "data": {
      "text/html": [
       "<div>\n",
       "<style scoped>\n",
       "    .dataframe tbody tr th:only-of-type {\n",
       "        vertical-align: middle;\n",
       "    }\n",
       "\n",
       "    .dataframe tbody tr th {\n",
       "        vertical-align: top;\n",
       "    }\n",
       "\n",
       "    .dataframe thead tr th {\n",
       "        text-align: left;\n",
       "    }\n",
       "\n",
       "    .dataframe thead tr:last-of-type th {\n",
       "        text-align: right;\n",
       "    }\n",
       "</style>\n",
       "<table border=\"1\" class=\"dataframe\">\n",
       "  <thead>\n",
       "    <tr>\n",
       "      <th></th>\n",
       "      <th colspan=\"8\" halign=\"left\">dst</th>\n",
       "    </tr>\n",
       "    <tr>\n",
       "      <th></th>\n",
       "      <th>count</th>\n",
       "      <th>mean</th>\n",
       "      <th>std</th>\n",
       "      <th>min</th>\n",
       "      <th>25%</th>\n",
       "      <th>50%</th>\n",
       "      <th>75%</th>\n",
       "      <th>max</th>\n",
       "    </tr>\n",
       "    <tr>\n",
       "      <th>period</th>\n",
       "      <th></th>\n",
       "      <th></th>\n",
       "      <th></th>\n",
       "      <th></th>\n",
       "      <th></th>\n",
       "      <th></th>\n",
       "      <th></th>\n",
       "      <th></th>\n",
       "    </tr>\n",
       "  </thead>\n",
       "  <tbody>\n",
       "    <tr>\n",
       "      <th>train_a</th>\n",
       "      <td>28824.0</td>\n",
       "      <td>-16.576707</td>\n",
       "      <td>26.083191</td>\n",
       "      <td>-387.0</td>\n",
       "      <td>-26.0</td>\n",
       "      <td>-12.0</td>\n",
       "      <td>-1.0</td>\n",
       "      <td>65.0</td>\n",
       "    </tr>\n",
       "    <tr>\n",
       "      <th>train_b</th>\n",
       "      <td>52584.0</td>\n",
       "      <td>-9.695154</td>\n",
       "      <td>16.443049</td>\n",
       "      <td>-223.0</td>\n",
       "      <td>-17.0</td>\n",
       "      <td>-7.0</td>\n",
       "      <td>1.0</td>\n",
       "      <td>59.0</td>\n",
       "    </tr>\n",
       "    <tr>\n",
       "      <th>train_c</th>\n",
       "      <td>58464.0</td>\n",
       "      <td>-9.556325</td>\n",
       "      <td>16.506404</td>\n",
       "      <td>-374.0</td>\n",
       "      <td>-16.0</td>\n",
       "      <td>-7.0</td>\n",
       "      <td>0.0</td>\n",
       "      <td>67.0</td>\n",
       "    </tr>\n",
       "  </tbody>\n",
       "</table>\n",
       "</div>"
      ],
      "text/plain": [
       "             dst                                                    \n",
       "           count       mean        std    min   25%   50%  75%   max\n",
       "period                                                              \n",
       "train_a  28824.0 -16.576707  26.083191 -387.0 -26.0 -12.0 -1.0  65.0\n",
       "train_b  52584.0  -9.695154  16.443049 -223.0 -17.0  -7.0  1.0  59.0\n",
       "train_c  58464.0  -9.556325  16.506404 -374.0 -16.0  -7.0  0.0  67.0"
      ]
     },
     "execution_count": 48,
     "metadata": {},
     "output_type": "execute_result"
    }
   ],
   "source": [
    "dst.groupby(\"period\").describe()"
   ]
  },
  {
   "cell_type": "markdown",
   "metadata": {
    "id": "9xugOWDOJe2J"
   },
   "source": [
    "### Visualize the difference between the periods"
   ]
  },
  {
   "cell_type": "code",
   "execution_count": 49,
   "metadata": {
    "colab": {
     "base_uri": "https://localhost:8080/",
     "height": 281
    },
    "id": "m6sVTGPtJhpD",
    "outputId": "a7355542-61f3-4737-ccc8-27fc60297d3f"
   },
   "outputs": [
    {
     "data": {
      "image/png": "[encoded data removed]",
      "text/plain": [
       "<Figure size 432x288 with 1 Axes>"
      ]
     },
     "metadata": {
      "needs_background": "light"
     },
     "output_type": "display_data"
    }
   ],
   "source": [
    "fig, ax = plt.subplots()\n",
    "colors = [\"r\", \"b\", \"y\"]\n",
    "for i, period in enumerate(dst.groupby(\"period\")):\n",
    "    period_name, df = period\n",
    "    # FYI: For Google Colaborory (Python 3.7, Matplotlib 3.2.2), in the call to ax.hist(), you need to transpose the DataFrame.\n",
    "    #      For Python 3.8+ (e.g. 3.9.7, with Matplotlib 3.5.1) it seems no tranpose is needed, thus this version switch.\n",
    "    #      Below we differentiate on Python version, while you might want to differentiate on Matplotlib version.\n",
    "    #      Error message you might see if DataFrame isn't oriented correctly: \n",
    "    #           \"ValueError: color kwarg must have one color per data set. 28824 data sets and 1 colors were provided\"\n",
    "    import sys\n",
    "    if float(sys.version[:3]) <= 3.7:\n",
    "        ax.hist(df.T, alpha=0.5, color=colors[i], bins=50, label=period_name)\n",
    "    else:\n",
    "        ax.hist(df,   alpha=0.5, color=colors[i], bins=50, label=period_name)\n",
    "    ax.set_xlim([-100,50])\n",
    "    ax.set_xlabel('Dst')\n",
    "    ax.set_ylabel('Count')\n",
    "\n",
    "plt.legend()\n",
    "plt.title(\"Distribution of Dst values across Periods\")\n",
    "plt.show()"
   ]
  },
  {
   "cell_type": "markdown",
   "metadata": {},
   "source": [
    "### Solar Wind and Sunspots\n",
    "This is our time series input (feature) data."
   ]
  },
  {
   "cell_type": "code",
   "execution_count": 50,
   "metadata": {
    "colab": {
     "base_uri": "https://localhost:8080/",
     "height": 192
    },
    "id": "dCAaPl0dKgxB",
    "outputId": "2e9ef87e-22d0-4d63-bef0-d16f0b54314b"
   },
   "outputs": [
    {
     "name": "stdout",
     "output_type": "stream",
     "text": [
      "Solar wind shape:  (8392320, 15)\n"
     ]
    },
    {
     "data": {
      "text/html": [
       "<div>\n",
       "<style scoped>\n",
       "    .dataframe tbody tr th:only-of-type {\n",
       "        vertical-align: middle;\n",
       "    }\n",
       "\n",
       "    .dataframe tbody tr th {\n",
       "        vertical-align: top;\n",
       "    }\n",
       "\n",
       "    .dataframe thead th {\n",
       "        text-align: right;\n",
       "    }\n",
       "</style>\n",
       "<table border=\"1\" class=\"dataframe\">\n",
       "  <thead>\n",
       "    <tr style=\"text-align: right;\">\n",
       "      <th></th>\n",
       "      <th></th>\n",
       "      <th>bx_gse</th>\n",
       "      <th>by_gse</th>\n",
       "      <th>bz_gse</th>\n",
       "      <th>theta_gse</th>\n",
       "      <th>phi_gse</th>\n",
       "      <th>bx_gsm</th>\n",
       "      <th>by_gsm</th>\n",
       "      <th>bz_gsm</th>\n",
       "      <th>theta_gsm</th>\n",
       "      <th>phi_gsm</th>\n",
       "      <th>bt</th>\n",
       "      <th>density</th>\n",
       "      <th>speed</th>\n",
       "      <th>temperature</th>\n",
       "      <th>source</th>\n",
       "    </tr>\n",
       "    <tr>\n",
       "      <th>period</th>\n",
       "      <th>timedelta</th>\n",
       "      <th></th>\n",
       "      <th></th>\n",
       "      <th></th>\n",
       "      <th></th>\n",
       "      <th></th>\n",
       "      <th></th>\n",
       "      <th></th>\n",
       "      <th></th>\n",
       "      <th></th>\n",
       "      <th></th>\n",
       "      <th></th>\n",
       "      <th></th>\n",
       "      <th></th>\n",
       "      <th></th>\n",
       "      <th></th>\n",
       "    </tr>\n",
       "  </thead>\n",
       "  <tbody>\n",
       "    <tr>\n",
       "      <th rowspan=\"3\" valign=\"top\">train_a</th>\n",
       "      <th>0 days 00:00:00</th>\n",
       "      <td>-5.55</td>\n",
       "      <td>3.00</td>\n",
       "      <td>1.25</td>\n",
       "      <td>11.09</td>\n",
       "      <td>153.37</td>\n",
       "      <td>-5.55</td>\n",
       "      <td>3.00</td>\n",
       "      <td>1.25</td>\n",
       "      <td>11.09</td>\n",
       "      <td>153.37</td>\n",
       "      <td>6.80</td>\n",
       "      <td>1.53</td>\n",
       "      <td>383.92</td>\n",
       "      <td>110237.0</td>\n",
       "      <td>ac</td>\n",
       "    </tr>\n",
       "    <tr>\n",
       "      <th>0 days 00:01:00</th>\n",
       "      <td>-5.58</td>\n",
       "      <td>3.16</td>\n",
       "      <td>1.17</td>\n",
       "      <td>10.10</td>\n",
       "      <td>151.91</td>\n",
       "      <td>-5.58</td>\n",
       "      <td>3.16</td>\n",
       "      <td>1.17</td>\n",
       "      <td>10.10</td>\n",
       "      <td>151.91</td>\n",
       "      <td>6.83</td>\n",
       "      <td>1.69</td>\n",
       "      <td>381.79</td>\n",
       "      <td>123825.0</td>\n",
       "      <td>ac</td>\n",
       "    </tr>\n",
       "    <tr>\n",
       "      <th>0 days 00:02:00</th>\n",
       "      <td>-5.15</td>\n",
       "      <td>3.66</td>\n",
       "      <td>0.85</td>\n",
       "      <td>7.87</td>\n",
       "      <td>146.04</td>\n",
       "      <td>-5.15</td>\n",
       "      <td>3.66</td>\n",
       "      <td>0.85</td>\n",
       "      <td>7.87</td>\n",
       "      <td>146.04</td>\n",
       "      <td>6.77</td>\n",
       "      <td>1.97</td>\n",
       "      <td>389.11</td>\n",
       "      <td>82548.0</td>\n",
       "      <td>ac</td>\n",
       "    </tr>\n",
       "  </tbody>\n",
       "</table>\n",
       "</div>"
      ],
      "text/plain": [
       "                         bx_gse  by_gse  bz_gse  theta_gse  phi_gse  bx_gsm  \\\n",
       "period  timedelta                                                             \n",
       "train_a 0 days 00:00:00   -5.55    3.00    1.25      11.09   153.37   -5.55   \n",
       "        0 days 00:01:00   -5.58    3.16    1.17      10.10   151.91   -5.58   \n",
       "        0 days 00:02:00   -5.15    3.66    0.85       7.87   146.04   -5.15   \n",
       "\n",
       "                         by_gsm  bz_gsm  theta_gsm  phi_gsm    bt  density  \\\n",
       "period  timedelta                                                            \n",
       "train_a 0 days 00:00:00    3.00    1.25      11.09   153.37  6.80     1.53   \n",
       "        0 days 00:01:00    3.16    1.17      10.10   151.91  6.83     1.69   \n",
       "        0 days 00:02:00    3.66    0.85       7.87   146.04  6.77     1.97   \n",
       "\n",
       "                          speed  temperature source  \n",
       "period  timedelta                                    \n",
       "train_a 0 days 00:00:00  383.92     110237.0     ac  \n",
       "        0 days 00:01:00  381.79     123825.0     ac  \n",
       "        0 days 00:02:00  389.11      82548.0     ac  "
      ]
     },
     "execution_count": 50,
     "metadata": {},
     "output_type": "execute_result"
    }
   ],
   "source": [
    "print(\"Solar wind shape: \", solar_wind.shape)\n",
    "solar_wind.head(n=3)"
   ]
  },
  {
   "cell_type": "code",
   "execution_count": 51,
   "metadata": {
    "colab": {
     "base_uri": "https://localhost:8080/",
     "height": 192
    },
    "id": "0QeZ0nrzLVNM",
    "outputId": "c63ceb49-96ed-443e-a299-12f747e2614c"
   },
   "outputs": [
    {
     "name": "stdout",
     "output_type": "stream",
     "text": [
      "Sunspot shape:  (192, 1)\n"
     ]
    },
    {
     "data": {
      "text/html": [
       "<div>\n",
       "<style scoped>\n",
       "    .dataframe tbody tr th:only-of-type {\n",
       "        vertical-align: middle;\n",
       "    }\n",
       "\n",
       "    .dataframe tbody tr th {\n",
       "        vertical-align: top;\n",
       "    }\n",
       "\n",
       "    .dataframe thead th {\n",
       "        text-align: right;\n",
       "    }\n",
       "</style>\n",
       "<table border=\"1\" class=\"dataframe\">\n",
       "  <thead>\n",
       "    <tr style=\"text-align: right;\">\n",
       "      <th></th>\n",
       "      <th></th>\n",
       "      <th>smoothed_ssn</th>\n",
       "    </tr>\n",
       "    <tr>\n",
       "      <th>period</th>\n",
       "      <th>timedelta</th>\n",
       "      <th></th>\n",
       "    </tr>\n",
       "  </thead>\n",
       "  <tbody>\n",
       "    <tr>\n",
       "      <th rowspan=\"3\" valign=\"top\">train_a</th>\n",
       "      <th>0 days</th>\n",
       "      <td>65.4</td>\n",
       "    </tr>\n",
       "    <tr>\n",
       "      <th>13 days</th>\n",
       "      <td>72.0</td>\n",
       "    </tr>\n",
       "    <tr>\n",
       "      <th>44 days</th>\n",
       "      <td>76.9</td>\n",
       "    </tr>\n",
       "  </tbody>\n",
       "</table>\n",
       "</div>"
      ],
      "text/plain": [
       "                   smoothed_ssn\n",
       "period  timedelta              \n",
       "train_a 0 days             65.4\n",
       "        13 days            72.0\n",
       "        44 days            76.9"
      ]
     },
     "execution_count": 51,
     "metadata": {},
     "output_type": "execute_result"
    }
   ],
   "source": [
    "print(\"Sunspot shape: \", sunspots.shape)\n",
    "sunspots.head(n=3)"
   ]
  },
  {
   "cell_type": "code",
   "execution_count": 52,
   "metadata": {
    "colab": {
     "base_uri": "https://localhost:8080/",
     "height": 424
    },
    "id": "jXcVEchoLbFd",
    "outputId": "9b07685f-d60d-472e-c9e5-b1e11220c2fb"
   },
   "outputs": [
    {
     "data": {
      "text/html": [
       "<div>\n",
       "<style scoped>\n",
       "    .dataframe tbody tr th:only-of-type {\n",
       "        vertical-align: middle;\n",
       "    }\n",
       "\n",
       "    .dataframe tbody tr th {\n",
       "        vertical-align: top;\n",
       "    }\n",
       "\n",
       "    .dataframe thead th {\n",
       "        text-align: right;\n",
       "    }\n",
       "</style>\n",
       "<table border=\"1\" class=\"dataframe\">\n",
       "  <thead>\n",
       "    <tr style=\"text-align: right;\">\n",
       "      <th></th>\n",
       "      <th>period</th>\n",
       "      <th>train_a</th>\n",
       "      <th>train_b</th>\n",
       "      <th>train_c</th>\n",
       "    </tr>\n",
       "  </thead>\n",
       "  <tbody>\n",
       "    <tr>\n",
       "      <th rowspan=\"5\" valign=\"top\">bx_gse</th>\n",
       "      <th>count</th>\n",
       "      <td>1.575012e+06</td>\n",
       "      <td>3.084130e+06</td>\n",
       "      <td>3.407290e+06</td>\n",
       "    </tr>\n",
       "    <tr>\n",
       "      <th>mean</th>\n",
       "      <td>-1.781301e+00</td>\n",
       "      <td>-3.088789e-01</td>\n",
       "      <td>-4.619076e-01</td>\n",
       "    </tr>\n",
       "    <tr>\n",
       "      <th>std</th>\n",
       "      <td>4.339212e+00</td>\n",
       "      <td>3.627830e+00</td>\n",
       "      <td>3.245485e+00</td>\n",
       "    </tr>\n",
       "    <tr>\n",
       "      <th>min</th>\n",
       "      <td>-5.463000e+01</td>\n",
       "      <td>-2.937000e+01</td>\n",
       "      <td>-4.546000e+01</td>\n",
       "    </tr>\n",
       "    <tr>\n",
       "      <th>25%</th>\n",
       "      <td>-4.960000e+00</td>\n",
       "      <td>-3.070000e+00</td>\n",
       "      <td>-2.800000e+00</td>\n",
       "    </tr>\n",
       "    <tr>\n",
       "      <th>...</th>\n",
       "      <th>...</th>\n",
       "      <td>...</td>\n",
       "      <td>...</td>\n",
       "      <td>...</td>\n",
       "    </tr>\n",
       "    <tr>\n",
       "      <th rowspan=\"5\" valign=\"top\">temperature</th>\n",
       "      <th>min</th>\n",
       "      <td>1.000000e+04</td>\n",
       "      <td>1.496000e+03</td>\n",
       "      <td>0.000000e+00</td>\n",
       "    </tr>\n",
       "    <tr>\n",
       "      <th>25%</th>\n",
       "      <td>4.364900e+04</td>\n",
       "      <td>3.741400e+04</td>\n",
       "      <td>4.007400e+04</td>\n",
       "    </tr>\n",
       "    <tr>\n",
       "      <th>50%</th>\n",
       "      <td>7.923800e+04</td>\n",
       "      <td>8.552400e+04</td>\n",
       "      <td>7.152100e+04</td>\n",
       "    </tr>\n",
       "    <tr>\n",
       "      <th>75%</th>\n",
       "      <td>1.325500e+05</td>\n",
       "      <td>1.873250e+05</td>\n",
       "      <td>1.310880e+05</td>\n",
       "    </tr>\n",
       "    <tr>\n",
       "      <th>max</th>\n",
       "      <td>6.223700e+06</td>\n",
       "      <td>4.206672e+06</td>\n",
       "      <td>5.751308e+06</td>\n",
       "    </tr>\n",
       "  </tbody>\n",
       "</table>\n",
       "<p>112 rows × 3 columns</p>\n",
       "</div>"
      ],
      "text/plain": [
       "period                  train_a       train_b       train_c\n",
       "bx_gse      count  1.575012e+06  3.084130e+06  3.407290e+06\n",
       "            mean  -1.781301e+00 -3.088789e-01 -4.619076e-01\n",
       "            std    4.339212e+00  3.627830e+00  3.245485e+00\n",
       "            min   -5.463000e+01 -2.937000e+01 -4.546000e+01\n",
       "            25%   -4.960000e+00 -3.070000e+00 -2.800000e+00\n",
       "...                         ...           ...           ...\n",
       "temperature min    1.000000e+04  1.496000e+03  0.000000e+00\n",
       "            25%    4.364900e+04  3.741400e+04  4.007400e+04\n",
       "            50%    7.923800e+04  8.552400e+04  7.152100e+04\n",
       "            75%    1.325500e+05  1.873250e+05  1.310880e+05\n",
       "            max    6.223700e+06  4.206672e+06  5.751308e+06\n",
       "\n",
       "[112 rows x 3 columns]"
      ]
     },
     "execution_count": 52,
     "metadata": {},
     "output_type": "execute_result"
    }
   ],
   "source": [
    "solar_wind.groupby(\"period\").describe().T"
   ]
  },
  {
   "cell_type": "code",
   "execution_count": 53,
   "metadata": {
    "colab": {
     "base_uri": "https://localhost:8080/",
     "height": 300
    },
    "id": "3NPbKV0UMCp-",
    "outputId": "0b53a025-d3e8-4909-ae9d-d4fcef082959"
   },
   "outputs": [
    {
     "data": {
      "text/html": [
       "<div>\n",
       "<style scoped>\n",
       "    .dataframe tbody tr th:only-of-type {\n",
       "        vertical-align: middle;\n",
       "    }\n",
       "\n",
       "    .dataframe tbody tr th {\n",
       "        vertical-align: top;\n",
       "    }\n",
       "\n",
       "    .dataframe thead th {\n",
       "        text-align: right;\n",
       "    }\n",
       "</style>\n",
       "<table border=\"1\" class=\"dataframe\">\n",
       "  <thead>\n",
       "    <tr style=\"text-align: right;\">\n",
       "      <th></th>\n",
       "      <th>period</th>\n",
       "      <th>train_a</th>\n",
       "      <th>train_b</th>\n",
       "      <th>train_c</th>\n",
       "    </tr>\n",
       "  </thead>\n",
       "  <tbody>\n",
       "    <tr>\n",
       "      <th rowspan=\"8\" valign=\"top\">smoothed_ssn</th>\n",
       "      <th>count</th>\n",
       "      <td>40.000000</td>\n",
       "      <td>72.000000</td>\n",
       "      <td>80.000000</td>\n",
       "    </tr>\n",
       "    <tr>\n",
       "      <th>mean</th>\n",
       "      <td>136.902500</td>\n",
       "      <td>51.850000</td>\n",
       "      <td>24.313750</td>\n",
       "    </tr>\n",
       "    <tr>\n",
       "      <th>std</th>\n",
       "      <td>34.563168</td>\n",
       "      <td>39.200266</td>\n",
       "      <td>19.020414</td>\n",
       "    </tr>\n",
       "    <tr>\n",
       "      <th>min</th>\n",
       "      <td>65.400000</td>\n",
       "      <td>3.900000</td>\n",
       "      <td>2.200000</td>\n",
       "    </tr>\n",
       "    <tr>\n",
       "      <th>25%</th>\n",
       "      <td>108.375000</td>\n",
       "      <td>15.325000</td>\n",
       "      <td>7.775000</td>\n",
       "    </tr>\n",
       "    <tr>\n",
       "      <th>50%</th>\n",
       "      <td>151.500000</td>\n",
       "      <td>43.150000</td>\n",
       "      <td>20.500000</td>\n",
       "    </tr>\n",
       "    <tr>\n",
       "      <th>75%</th>\n",
       "      <td>164.400000</td>\n",
       "      <td>91.225000</td>\n",
       "      <td>38.525000</td>\n",
       "    </tr>\n",
       "    <tr>\n",
       "      <th>max</th>\n",
       "      <td>175.200000</td>\n",
       "      <td>116.400000</td>\n",
       "      <td>69.500000</td>\n",
       "    </tr>\n",
       "  </tbody>\n",
       "</table>\n",
       "</div>"
      ],
      "text/plain": [
       "period                 train_a     train_b    train_c\n",
       "smoothed_ssn count   40.000000   72.000000  80.000000\n",
       "             mean   136.902500   51.850000  24.313750\n",
       "             std     34.563168   39.200266  19.020414\n",
       "             min     65.400000    3.900000   2.200000\n",
       "             25%    108.375000   15.325000   7.775000\n",
       "             50%    151.500000   43.150000  20.500000\n",
       "             75%    164.400000   91.225000  38.525000\n",
       "             max    175.200000  116.400000  69.500000"
      ]
     },
     "execution_count": 53,
     "metadata": {},
     "output_type": "execute_result"
    }
   ],
   "source": [
    "sunspots.groupby(\"period\").describe().T"
   ]
  },
  {
   "cell_type": "code",
   "execution_count": 54,
   "metadata": {
    "colab": {
     "base_uri": "https://localhost:8080/",
     "height": 808
    },
    "id": "Db5CZCCdMHal",
    "outputId": "6d5d1949-9e20-418b-9cf6-93cc69fdd509"
   },
   "outputs": [
    {
     "data": {
      "image/png": "[encoded data removed]",
      "text/plain": [
       "<Figure size 1200x800 with 6 Axes>"
      ]
     },
     "metadata": {
      "needs_background": "light"
     },
     "output_type": "display_data"
    }
   ],
   "source": [
    "def show_raw_visualization(data):\n",
    "    fig, axes = plt.subplots(nrows=3, ncols=2, figsize=(15, 10), dpi=80)\n",
    "    for i, key in enumerate(data.columns):\n",
    "        t_data = data[key]\n",
    "        ax = t_data.plot(\n",
    "            ax=axes[i // 2, i % 2],\n",
    "            title=f\"{key.capitalize()}\",\n",
    "            rot=25,\n",
    "        )\n",
    "\n",
    "    fig.subplots_adjust(hspace=0.8)\n",
    "    plt.tight_layout()\n",
    "\n",
    "cols_to_plot = [\"bz_gse\", \"bz_gsm\", \"bt\", \"density\", \"speed\", \"temperature\"]\n",
    "show_raw_visualization(solar_wind[cols_to_plot].iloc[:1000])"
   ]
  },
  {
   "cell_type": "markdown",
   "metadata": {
    "id": "ZDtowUzbMXNx"
   },
   "source": [
    "### Data gaps in the Solar Wind data are a common issue with real-time data\n",
    "\n",
    "Percent of data gaps for each solar wind input (feature):"
   ]
  },
  {
   "cell_type": "code",
   "execution_count": 55,
   "metadata": {
    "colab": {
     "base_uri": "https://localhost:8080/"
    },
    "id": "WGwqDyXqMZtW",
    "outputId": "ce8fb7f5-e312-433f-f555-c5a3486e995b"
   },
   "outputs": [
    {
     "name": "stdout",
     "output_type": "stream",
     "text": [
      "Data gaps in solar input (features) as % of data:\n"
     ]
    },
    {
     "data": {
      "text/plain": [
       "bx_gse         3.883169\n",
       "by_gse         3.883169\n",
       "bz_gse         3.883169\n",
       "theta_gse      3.883169\n",
       "phi_gse        3.889127\n",
       "bx_gsm         3.883169\n",
       "by_gsm         3.883169\n",
       "bz_gsm         3.883169\n",
       "theta_gsm      3.883169\n",
       "phi_gsm        3.889127\n",
       "bt             3.883169\n",
       "density        8.160914\n",
       "speed          8.216500\n",
       "temperature    9.672748\n",
       "source         3.775071\n",
       "dtype: float64"
      ]
     },
     "execution_count": 55,
     "metadata": {},
     "output_type": "execute_result"
    }
   ],
   "source": [
    "# What percent of the time are there gaps in these data?\n",
    "print('Data gaps in solar input (features) as % of data:')\n",
    "solar_wind.isna().sum()/len(solar_wind)*100"
   ]
  },
  {
   "cell_type": "markdown",
   "metadata": {
    "id": "bfWjFCIuMkRQ"
   },
   "source": [
    "## Feature Relationships"
   ]
  },
  {
   "cell_type": "code",
   "execution_count": 56,
   "metadata": {
    "id": "sgyVJUHMGBpu"
   },
   "outputs": [],
   "source": [
    "# Correlation matrix:\n",
    "#     Note that this is a slow command (several minutes) unless you have a GPU or TPU equivalent processor (then it's ~1 min).\n",
    "#     Take advantage of Pandas DataFrame and merge our Input (Feature) and Output (Label) data.\n",
    "#     I.e. merge, Solar Wind + Sunspots + Satellite Location + Dst\n",
    "corr = solar_wind.join(sunspots).join(satellite_positions).join(dst).fillna(method=\"ffill\").corr()"
   ]
  },
  {
   "cell_type": "code",
   "execution_count": 57,
   "metadata": {
    "colab": {
     "base_uri": "https://localhost:8080/",
     "height": 449
    },
    "id": "vMCaPDYgMnx3",
    "outputId": "b22b12dd-ce93-418c-ebab-ea8740c7e2e8"
   },
   "outputs": [
    {
     "data": {
      "image/png": "[encoded data removed]",
      "text/plain": [
       "<Figure size 720x360 with 2 Axes>"
      ]
     },
     "metadata": {
      "needs_background": "light"
     },
     "output_type": "display_data"
    }
   ],
   "source": [
    "plt.figure(figsize=(10, 5))\n",
    "plt.matshow(corr, cmap='seismic', vmin=-1, vmax=1, fignum=1)\n",
    "plt.xticks(range(corr.shape[1]), corr.columns, fontsize=14, rotation=90)\n",
    "plt.gca().xaxis.tick_bottom()\n",
    "plt.yticks(range(corr.shape[1]), corr.columns, fontsize=14)\n",
    "\n",
    "\n",
    "cb = plt.colorbar()\n",
    "cb.ax.tick_params(labelsize=14)\n",
    "plt.title(\"Feature Correlation Heatmap\", fontsize=16)\n",
    "plt.show()"
   ]
  },
  {
   "cell_type": "markdown",
   "metadata": {},
   "source": [
    "<div class=\"alert alert-block alert-warning\">\n",
    "TODO Student Exercise: Evaluate the feature correlation heatmap figure. What input (features) are correlated with each other and which ones are correlated with our output (label, <i>Dst</i>)? Does satellite location seem to be important or not?\n",
    "</div>"
   ]
  },
  {
   "cell_type": "markdown",
   "metadata": {
    "id": "Vk0h7YPGMxUw"
   },
   "source": [
    "# Feature Generation"
   ]
  },
  {
   "cell_type": "markdown",
   "metadata": {
    "id": "Is66dqN0M3VP"
   },
   "source": [
    "## Set seeds for reproducibility"
   ]
  },
  {
   "cell_type": "code",
   "execution_count": 58,
   "metadata": {
    "id": "MqoGFClxMzSQ"
   },
   "outputs": [],
   "source": [
    "from numpy.random import seed\n",
    "from tensorflow.random import set_seed\n",
    "\n",
    "seed(2020)\n",
    "set_seed(2021)"
   ]
  },
  {
   "cell_type": "markdown",
   "metadata": {
    "id": "5HoW8LxqM8eS"
   },
   "source": [
    "## Feature / Input Data we'll use to Train the Model"
   ]
  },
  {
   "cell_type": "code",
   "execution_count": 59,
   "metadata": {
    "id": "N4CQxyRBNZiu"
   },
   "outputs": [],
   "source": [
    "from sklearn.preprocessing import StandardScaler\n",
    "\n",
    "# subset of solar wind features to use for modeling\n",
    "SOLAR_WIND_FEATURES = [\n",
    "    \"bt\",\n",
    "    \"temperature\",\n",
    "    \"bx_gsm\",\n",
    "    \"by_gsm\",\n",
    "    \"bz_gsm\",\n",
    "    \"speed\",\n",
    "    \"density\",\n",
    "]\n",
    "\n",
    "# all of the features we'll use, including sunspot numbers\n",
    "XCOLS = (\n",
    "    [col + \"_mean\" for col in SOLAR_WIND_FEATURES]\n",
    "    + [col + \"_std\" for col in SOLAR_WIND_FEATURES]\n",
    "    + [\"smoothed_ssn\"]\n",
    ")\n",
    "\n",
    "\n",
    "def impute_features(feature_df):\n",
    "    \"\"\"Imputes data using the following methods:\n",
    "    - `smoothed_ssn`: forward fill\n",
    "    - `solar_wind`: interpolation\n",
    "    \"\"\"\n",
    "    # forward fill sunspot data for the rest of the month\n",
    "    feature_df.smoothed_ssn = feature_df.smoothed_ssn.fillna(method=\"ffill\")\n",
    "    # interpolate between missing solar wind values\n",
    "    feature_df = feature_df.interpolate()\n",
    "    return feature_df\n",
    "\n",
    "\n",
    "def aggregate_hourly(feature_df, aggs=[\"mean\", \"std\"]):\n",
    "    \"\"\"Aggregates features to the floor of each hour using mean and standard deviation.\n",
    "    e.g. All values from \"11:00:00\" to \"11:59:00\" will be aggregated to \"11:00:00\".\n",
    "    \"\"\"\n",
    "    # group by the floor of each hour use timedelta index\n",
    "    agged = feature_df.groupby(\n",
    "        [\"period\", feature_df.index.get_level_values(1).floor(\"H\")]\n",
    "    ).agg(aggs)\n",
    "    # flatten hierachical column index\n",
    "    agged.columns = [\"_\".join(x) for x in agged.columns]\n",
    "    return agged\n",
    "\n",
    "\n",
    "def preprocess_features(solar_wind, sunspots, scaler=None, subset=None):\n",
    "    \"\"\"\n",
    "    Preprocessing steps:\n",
    "        - Subset the data\n",
    "        - Aggregate hourly\n",
    "        - Join solar wind and sunspot data\n",
    "        - Scale using standard scaler\n",
    "        - Impute missing values\n",
    "    \"\"\"\n",
    "    # select features we want to use\n",
    "    if subset:\n",
    "        solar_wind = solar_wind[subset]\n",
    "\n",
    "    # aggregate solar wind data and join with sunspots\n",
    "    hourly_features = aggregate_hourly(solar_wind).join(sunspots)\n",
    "\n",
    "    # subtract mean and divide by standard deviation\n",
    "    if scaler is None:\n",
    "        scaler = StandardScaler()\n",
    "        scaler.fit(hourly_features)\n",
    "\n",
    "    normalized = pd.DataFrame(\n",
    "        scaler.transform(hourly_features),\n",
    "        index=hourly_features.index,\n",
    "        columns=hourly_features.columns,\n",
    "    )\n",
    "\n",
    "    # impute missing values\n",
    "    imputed = impute_features(normalized)\n",
    "\n",
    "    # we want to return the scaler object as well to use later during prediction\n",
    "    return imputed, scaler"
   ]
  },
  {
   "cell_type": "code",
   "execution_count": 60,
   "metadata": {
    "colab": {
     "base_uri": "https://localhost:8080/",
     "height": 0
    },
    "id": "KS4-r3QmNmAf",
    "outputId": "9273ed92-5a89-40d8-8089-fdf342176758"
   },
   "outputs": [
    {
     "name": "stdout",
     "output_type": "stream",
     "text": [
      "(139872, 15)\n"
     ]
    },
    {
     "data": {
      "text/html": [
       "<div>\n",
       "<style scoped>\n",
       "    .dataframe tbody tr th:only-of-type {\n",
       "        vertical-align: middle;\n",
       "    }\n",
       "\n",
       "    .dataframe tbody tr th {\n",
       "        vertical-align: top;\n",
       "    }\n",
       "\n",
       "    .dataframe thead th {\n",
       "        text-align: right;\n",
       "    }\n",
       "</style>\n",
       "<table border=\"1\" class=\"dataframe\">\n",
       "  <thead>\n",
       "    <tr style=\"text-align: right;\">\n",
       "      <th></th>\n",
       "      <th></th>\n",
       "      <th>bt_mean</th>\n",
       "      <th>bt_std</th>\n",
       "      <th>temperature_mean</th>\n",
       "      <th>temperature_std</th>\n",
       "      <th>bx_gsm_mean</th>\n",
       "      <th>bx_gsm_std</th>\n",
       "      <th>by_gsm_mean</th>\n",
       "      <th>by_gsm_std</th>\n",
       "      <th>bz_gsm_mean</th>\n",
       "      <th>bz_gsm_std</th>\n",
       "      <th>speed_mean</th>\n",
       "      <th>speed_std</th>\n",
       "      <th>density_mean</th>\n",
       "      <th>density_std</th>\n",
       "      <th>smoothed_ssn</th>\n",
       "    </tr>\n",
       "    <tr>\n",
       "      <th>period</th>\n",
       "      <th>timedelta</th>\n",
       "      <th></th>\n",
       "      <th></th>\n",
       "      <th></th>\n",
       "      <th></th>\n",
       "      <th></th>\n",
       "      <th></th>\n",
       "      <th></th>\n",
       "      <th></th>\n",
       "      <th></th>\n",
       "      <th></th>\n",
       "      <th></th>\n",
       "      <th></th>\n",
       "      <th></th>\n",
       "      <th></th>\n",
       "      <th></th>\n",
       "    </tr>\n",
       "  </thead>\n",
       "  <tbody>\n",
       "    <tr>\n",
       "      <th rowspan=\"5\" valign=\"top\">train_a</th>\n",
       "      <th>0 days 00:00:00</th>\n",
       "      <td>0.499705</td>\n",
       "      <td>2.443614</td>\n",
       "      <td>-0.375267</td>\n",
       "      <td>0.383941</td>\n",
       "      <td>-1.600307</td>\n",
       "      <td>-0.381727</td>\n",
       "      <td>0.434424</td>\n",
       "      <td>0.021156</td>\n",
       "      <td>0.292754</td>\n",
       "      <td>-0.645095</td>\n",
       "      <td>-0.738546</td>\n",
       "      <td>0.862524</td>\n",
       "      <td>-0.775827</td>\n",
       "      <td>-0.205724</td>\n",
       "      <td>0.139444</td>\n",
       "    </tr>\n",
       "    <tr>\n",
       "      <th>0 days 01:00:00</th>\n",
       "      <td>0.547177</td>\n",
       "      <td>-0.224580</td>\n",
       "      <td>-0.479430</td>\n",
       "      <td>0.953178</td>\n",
       "      <td>-1.759200</td>\n",
       "      <td>-0.868044</td>\n",
       "      <td>0.189021</td>\n",
       "      <td>-0.282845</td>\n",
       "      <td>0.433737</td>\n",
       "      <td>-0.511040</td>\n",
       "      <td>-0.986904</td>\n",
       "      <td>0.995063</td>\n",
       "      <td>-0.861692</td>\n",
       "      <td>-0.058215</td>\n",
       "      <td>0.139444</td>\n",
       "    </tr>\n",
       "    <tr>\n",
       "      <th>0 days 02:00:00</th>\n",
       "      <td>0.739905</td>\n",
       "      <td>-0.770240</td>\n",
       "      <td>-0.574831</td>\n",
       "      <td>-0.192518</td>\n",
       "      <td>-1.913422</td>\n",
       "      <td>-1.114649</td>\n",
       "      <td>0.193116</td>\n",
       "      <td>-0.831526</td>\n",
       "      <td>0.747220</td>\n",
       "      <td>-0.870482</td>\n",
       "      <td>-1.013548</td>\n",
       "      <td>0.554085</td>\n",
       "      <td>-0.846222</td>\n",
       "      <td>-0.220012</td>\n",
       "      <td>0.139444</td>\n",
       "    </tr>\n",
       "    <tr>\n",
       "      <th>0 days 03:00:00</th>\n",
       "      <td>0.699098</td>\n",
       "      <td>-0.278783</td>\n",
       "      <td>-0.324709</td>\n",
       "      <td>0.325491</td>\n",
       "      <td>-1.810283</td>\n",
       "      <td>-0.783326</td>\n",
       "      <td>-0.380282</td>\n",
       "      <td>0.330015</td>\n",
       "      <td>0.603107</td>\n",
       "      <td>-0.282789</td>\n",
       "      <td>-0.826469</td>\n",
       "      <td>-0.211185</td>\n",
       "      <td>-0.404306</td>\n",
       "      <td>0.218373</td>\n",
       "      <td>0.139444</td>\n",
       "    </tr>\n",
       "    <tr>\n",
       "      <th>0 days 04:00:00</th>\n",
       "      <td>0.223933</td>\n",
       "      <td>-0.225168</td>\n",
       "      <td>-0.313432</td>\n",
       "      <td>0.201600</td>\n",
       "      <td>-1.339730</td>\n",
       "      <td>-0.485151</td>\n",
       "      <td>0.080228</td>\n",
       "      <td>1.010471</td>\n",
       "      <td>0.454560</td>\n",
       "      <td>-0.471111</td>\n",
       "      <td>-0.601238</td>\n",
       "      <td>1.016033</td>\n",
       "      <td>-0.371487</td>\n",
       "      <td>0.097253</td>\n",
       "      <td>0.139444</td>\n",
       "    </tr>\n",
       "  </tbody>\n",
       "</table>\n",
       "</div>"
      ],
      "text/plain": [
       "                          bt_mean    bt_std  temperature_mean  \\\n",
       "period  timedelta                                               \n",
       "train_a 0 days 00:00:00  0.499705  2.443614         -0.375267   \n",
       "        0 days 01:00:00  0.547177 -0.224580         -0.479430   \n",
       "        0 days 02:00:00  0.739905 -0.770240         -0.574831   \n",
       "        0 days 03:00:00  0.699098 -0.278783         -0.324709   \n",
       "        0 days 04:00:00  0.223933 -0.225168         -0.313432   \n",
       "\n",
       "                         temperature_std  bx_gsm_mean  bx_gsm_std  \\\n",
       "period  timedelta                                                   \n",
       "train_a 0 days 00:00:00         0.383941    -1.600307   -0.381727   \n",
       "        0 days 01:00:00         0.953178    -1.759200   -0.868044   \n",
       "        0 days 02:00:00        -0.192518    -1.913422   -1.114649   \n",
       "        0 days 03:00:00         0.325491    -1.810283   -0.783326   \n",
       "        0 days 04:00:00         0.201600    -1.339730   -0.485151   \n",
       "\n",
       "                         by_gsm_mean  by_gsm_std  bz_gsm_mean  bz_gsm_std  \\\n",
       "period  timedelta                                                           \n",
       "train_a 0 days 00:00:00     0.434424    0.021156     0.292754   -0.645095   \n",
       "        0 days 01:00:00     0.189021   -0.282845     0.433737   -0.511040   \n",
       "        0 days 02:00:00     0.193116   -0.831526     0.747220   -0.870482   \n",
       "        0 days 03:00:00    -0.380282    0.330015     0.603107   -0.282789   \n",
       "        0 days 04:00:00     0.080228    1.010471     0.454560   -0.471111   \n",
       "\n",
       "                         speed_mean  speed_std  density_mean  density_std  \\\n",
       "period  timedelta                                                           \n",
       "train_a 0 days 00:00:00   -0.738546   0.862524     -0.775827    -0.205724   \n",
       "        0 days 01:00:00   -0.986904   0.995063     -0.861692    -0.058215   \n",
       "        0 days 02:00:00   -1.013548   0.554085     -0.846222    -0.220012   \n",
       "        0 days 03:00:00   -0.826469  -0.211185     -0.404306     0.218373   \n",
       "        0 days 04:00:00   -0.601238   1.016033     -0.371487     0.097253   \n",
       "\n",
       "                         smoothed_ssn  \n",
       "period  timedelta                      \n",
       "train_a 0 days 00:00:00      0.139444  \n",
       "        0 days 01:00:00      0.139444  \n",
       "        0 days 02:00:00      0.139444  \n",
       "        0 days 03:00:00      0.139444  \n",
       "        0 days 04:00:00      0.139444  "
      ]
     },
     "execution_count": 60,
     "metadata": {},
     "output_type": "execute_result"
    }
   ],
   "source": [
    "features, scaler = preprocess_features(solar_wind, sunspots, subset=SOLAR_WIND_FEATURES)\n",
    "print(features.shape)\n",
    "features.head()"
   ]
  },
  {
   "cell_type": "code",
   "execution_count": 61,
   "metadata": {
    "id": "NO2JkhsXNrb1"
   },
   "outputs": [],
   "source": [
    "# check to make sure missing values are filled\n",
    "assert (features.isna().sum() == 0).all()"
   ]
  },
  {
   "cell_type": "code",
   "execution_count": 62,
   "metadata": {
    "colab": {
     "base_uri": "https://localhost:8080/",
     "height": 0
    },
    "id": "RnD5T1cLN7g3",
    "outputId": "a106ff38-1122-415e-93bd-9abc9d77e8bc"
   },
   "outputs": [
    {
     "data": {
      "text/html": [
       "<div>\n",
       "<style scoped>\n",
       "    .dataframe tbody tr th:only-of-type {\n",
       "        vertical-align: middle;\n",
       "    }\n",
       "\n",
       "    .dataframe tbody tr th {\n",
       "        vertical-align: top;\n",
       "    }\n",
       "\n",
       "    .dataframe thead th {\n",
       "        text-align: right;\n",
       "    }\n",
       "</style>\n",
       "<table border=\"1\" class=\"dataframe\">\n",
       "  <thead>\n",
       "    <tr style=\"text-align: right;\">\n",
       "      <th></th>\n",
       "      <th></th>\n",
       "      <th>t0</th>\n",
       "      <th>t1</th>\n",
       "    </tr>\n",
       "    <tr>\n",
       "      <th>period</th>\n",
       "      <th>timedelta</th>\n",
       "      <th></th>\n",
       "      <th></th>\n",
       "    </tr>\n",
       "  </thead>\n",
       "  <tbody>\n",
       "    <tr>\n",
       "      <th rowspan=\"5\" valign=\"top\">train_a</th>\n",
       "      <th>0 days 00:00:00</th>\n",
       "      <td>-10.0</td>\n",
       "      <td>-10.0</td>\n",
       "    </tr>\n",
       "    <tr>\n",
       "      <th>0 days 01:00:00</th>\n",
       "      <td>-10.0</td>\n",
       "      <td>-6.0</td>\n",
       "    </tr>\n",
       "    <tr>\n",
       "      <th>0 days 02:00:00</th>\n",
       "      <td>-6.0</td>\n",
       "      <td>-2.0</td>\n",
       "    </tr>\n",
       "    <tr>\n",
       "      <th>0 days 03:00:00</th>\n",
       "      <td>-2.0</td>\n",
       "      <td>3.0</td>\n",
       "    </tr>\n",
       "    <tr>\n",
       "      <th>0 days 04:00:00</th>\n",
       "      <td>3.0</td>\n",
       "      <td>5.0</td>\n",
       "    </tr>\n",
       "  </tbody>\n",
       "</table>\n",
       "</div>"
      ],
      "text/plain": [
       "                           t0    t1\n",
       "period  timedelta                  \n",
       "train_a 0 days 00:00:00 -10.0 -10.0\n",
       "        0 days 01:00:00 -10.0  -6.0\n",
       "        0 days 02:00:00  -6.0  -2.0\n",
       "        0 days 03:00:00  -2.0   3.0\n",
       "        0 days 04:00:00   3.0   5.0"
      ]
     },
     "execution_count": 62,
     "metadata": {},
     "output_type": "execute_result"
    }
   ],
   "source": [
    "YCOLS = [\"t0\", \"t1\"]\n",
    "\n",
    "\n",
    "def process_labels(dst):\n",
    "    y = dst.copy()\n",
    "    y[\"t0\"] = y.groupby(\"period\").dst.shift(-1)\n",
    "    y[\"t1\"] = y.groupby(\"period\").dst.shift(-2)\n",
    "    return y[YCOLS]\n",
    "\n",
    "\n",
    "labels = process_labels(dst)\n",
    "labels.head()"
   ]
  },
  {
   "cell_type": "code",
   "execution_count": 63,
   "metadata": {
    "colab": {
     "base_uri": "https://localhost:8080/",
     "height": 0
    },
    "id": "9ndMs_ZMOC4L",
    "outputId": "f0cdc666-b4b7-42c3-b403-97ee862972b8"
   },
   "outputs": [
    {
     "data": {
      "text/html": [
       "<div>\n",
       "<style scoped>\n",
       "    .dataframe tbody tr th:only-of-type {\n",
       "        vertical-align: middle;\n",
       "    }\n",
       "\n",
       "    .dataframe tbody tr th {\n",
       "        vertical-align: top;\n",
       "    }\n",
       "\n",
       "    .dataframe thead th {\n",
       "        text-align: right;\n",
       "    }\n",
       "</style>\n",
       "<table border=\"1\" class=\"dataframe\">\n",
       "  <thead>\n",
       "    <tr style=\"text-align: right;\">\n",
       "      <th></th>\n",
       "      <th></th>\n",
       "      <th>t0</th>\n",
       "      <th>t1</th>\n",
       "      <th>bt_mean</th>\n",
       "      <th>bt_std</th>\n",
       "      <th>temperature_mean</th>\n",
       "      <th>temperature_std</th>\n",
       "      <th>bx_gsm_mean</th>\n",
       "      <th>bx_gsm_std</th>\n",
       "      <th>by_gsm_mean</th>\n",
       "      <th>by_gsm_std</th>\n",
       "      <th>bz_gsm_mean</th>\n",
       "      <th>bz_gsm_std</th>\n",
       "      <th>speed_mean</th>\n",
       "      <th>speed_std</th>\n",
       "      <th>density_mean</th>\n",
       "      <th>density_std</th>\n",
       "      <th>smoothed_ssn</th>\n",
       "    </tr>\n",
       "    <tr>\n",
       "      <th>period</th>\n",
       "      <th>timedelta</th>\n",
       "      <th></th>\n",
       "      <th></th>\n",
       "      <th></th>\n",
       "      <th></th>\n",
       "      <th></th>\n",
       "      <th></th>\n",
       "      <th></th>\n",
       "      <th></th>\n",
       "      <th></th>\n",
       "      <th></th>\n",
       "      <th></th>\n",
       "      <th></th>\n",
       "      <th></th>\n",
       "      <th></th>\n",
       "      <th></th>\n",
       "      <th></th>\n",
       "      <th></th>\n",
       "    </tr>\n",
       "  </thead>\n",
       "  <tbody>\n",
       "    <tr>\n",
       "      <th rowspan=\"5\" valign=\"top\">train_a</th>\n",
       "      <th>0 days 00:00:00</th>\n",
       "      <td>-10.0</td>\n",
       "      <td>-10.0</td>\n",
       "      <td>0.499705</td>\n",
       "      <td>2.443614</td>\n",
       "      <td>-0.375267</td>\n",
       "      <td>0.383941</td>\n",
       "      <td>-1.600307</td>\n",
       "      <td>-0.381727</td>\n",
       "      <td>0.434424</td>\n",
       "      <td>0.021156</td>\n",
       "      <td>0.292754</td>\n",
       "      <td>-0.645095</td>\n",
       "      <td>-0.738546</td>\n",
       "      <td>0.862524</td>\n",
       "      <td>-0.775827</td>\n",
       "      <td>-0.205724</td>\n",
       "      <td>0.139444</td>\n",
       "    </tr>\n",
       "    <tr>\n",
       "      <th>0 days 01:00:00</th>\n",
       "      <td>-10.0</td>\n",
       "      <td>-6.0</td>\n",
       "      <td>0.547177</td>\n",
       "      <td>-0.224580</td>\n",
       "      <td>-0.479430</td>\n",
       "      <td>0.953178</td>\n",
       "      <td>-1.759200</td>\n",
       "      <td>-0.868044</td>\n",
       "      <td>0.189021</td>\n",
       "      <td>-0.282845</td>\n",
       "      <td>0.433737</td>\n",
       "      <td>-0.511040</td>\n",
       "      <td>-0.986904</td>\n",
       "      <td>0.995063</td>\n",
       "      <td>-0.861692</td>\n",
       "      <td>-0.058215</td>\n",
       "      <td>0.139444</td>\n",
       "    </tr>\n",
       "    <tr>\n",
       "      <th>0 days 02:00:00</th>\n",
       "      <td>-6.0</td>\n",
       "      <td>-2.0</td>\n",
       "      <td>0.739905</td>\n",
       "      <td>-0.770240</td>\n",
       "      <td>-0.574831</td>\n",
       "      <td>-0.192518</td>\n",
       "      <td>-1.913422</td>\n",
       "      <td>-1.114649</td>\n",
       "      <td>0.193116</td>\n",
       "      <td>-0.831526</td>\n",
       "      <td>0.747220</td>\n",
       "      <td>-0.870482</td>\n",
       "      <td>-1.013548</td>\n",
       "      <td>0.554085</td>\n",
       "      <td>-0.846222</td>\n",
       "      <td>-0.220012</td>\n",
       "      <td>0.139444</td>\n",
       "    </tr>\n",
       "    <tr>\n",
       "      <th>0 days 03:00:00</th>\n",
       "      <td>-2.0</td>\n",
       "      <td>3.0</td>\n",
       "      <td>0.699098</td>\n",
       "      <td>-0.278783</td>\n",
       "      <td>-0.324709</td>\n",
       "      <td>0.325491</td>\n",
       "      <td>-1.810283</td>\n",
       "      <td>-0.783326</td>\n",
       "      <td>-0.380282</td>\n",
       "      <td>0.330015</td>\n",
       "      <td>0.603107</td>\n",
       "      <td>-0.282789</td>\n",
       "      <td>-0.826469</td>\n",
       "      <td>-0.211185</td>\n",
       "      <td>-0.404306</td>\n",
       "      <td>0.218373</td>\n",
       "      <td>0.139444</td>\n",
       "    </tr>\n",
       "    <tr>\n",
       "      <th>0 days 04:00:00</th>\n",
       "      <td>3.0</td>\n",
       "      <td>5.0</td>\n",
       "      <td>0.223933</td>\n",
       "      <td>-0.225168</td>\n",
       "      <td>-0.313432</td>\n",
       "      <td>0.201600</td>\n",
       "      <td>-1.339730</td>\n",
       "      <td>-0.485151</td>\n",
       "      <td>0.080228</td>\n",
       "      <td>1.010471</td>\n",
       "      <td>0.454560</td>\n",
       "      <td>-0.471111</td>\n",
       "      <td>-0.601238</td>\n",
       "      <td>1.016033</td>\n",
       "      <td>-0.371487</td>\n",
       "      <td>0.097253</td>\n",
       "      <td>0.139444</td>\n",
       "    </tr>\n",
       "  </tbody>\n",
       "</table>\n",
       "</div>"
      ],
      "text/plain": [
       "                           t0    t1   bt_mean    bt_std  temperature_mean  \\\n",
       "period  timedelta                                                           \n",
       "train_a 0 days 00:00:00 -10.0 -10.0  0.499705  2.443614         -0.375267   \n",
       "        0 days 01:00:00 -10.0  -6.0  0.547177 -0.224580         -0.479430   \n",
       "        0 days 02:00:00  -6.0  -2.0  0.739905 -0.770240         -0.574831   \n",
       "        0 days 03:00:00  -2.0   3.0  0.699098 -0.278783         -0.324709   \n",
       "        0 days 04:00:00   3.0   5.0  0.223933 -0.225168         -0.313432   \n",
       "\n",
       "                         temperature_std  bx_gsm_mean  bx_gsm_std  \\\n",
       "period  timedelta                                                   \n",
       "train_a 0 days 00:00:00         0.383941    -1.600307   -0.381727   \n",
       "        0 days 01:00:00         0.953178    -1.759200   -0.868044   \n",
       "        0 days 02:00:00        -0.192518    -1.913422   -1.114649   \n",
       "        0 days 03:00:00         0.325491    -1.810283   -0.783326   \n",
       "        0 days 04:00:00         0.201600    -1.339730   -0.485151   \n",
       "\n",
       "                         by_gsm_mean  by_gsm_std  bz_gsm_mean  bz_gsm_std  \\\n",
       "period  timedelta                                                           \n",
       "train_a 0 days 00:00:00     0.434424    0.021156     0.292754   -0.645095   \n",
       "        0 days 01:00:00     0.189021   -0.282845     0.433737   -0.511040   \n",
       "        0 days 02:00:00     0.193116   -0.831526     0.747220   -0.870482   \n",
       "        0 days 03:00:00    -0.380282    0.330015     0.603107   -0.282789   \n",
       "        0 days 04:00:00     0.080228    1.010471     0.454560   -0.471111   \n",
       "\n",
       "                         speed_mean  speed_std  density_mean  density_std  \\\n",
       "period  timedelta                                                           \n",
       "train_a 0 days 00:00:00   -0.738546   0.862524     -0.775827    -0.205724   \n",
       "        0 days 01:00:00   -0.986904   0.995063     -0.861692    -0.058215   \n",
       "        0 days 02:00:00   -1.013548   0.554085     -0.846222    -0.220012   \n",
       "        0 days 03:00:00   -0.826469  -0.211185     -0.404306     0.218373   \n",
       "        0 days 04:00:00   -0.601238   1.016033     -0.371487     0.097253   \n",
       "\n",
       "                         smoothed_ssn  \n",
       "period  timedelta                      \n",
       "train_a 0 days 00:00:00      0.139444  \n",
       "        0 days 01:00:00      0.139444  \n",
       "        0 days 02:00:00      0.139444  \n",
       "        0 days 03:00:00      0.139444  \n",
       "        0 days 04:00:00      0.139444  "
      ]
     },
     "execution_count": 63,
     "metadata": {},
     "output_type": "execute_result"
    }
   ],
   "source": [
    "data = labels.join(features)\n",
    "data.head()"
   ]
  },
  {
   "cell_type": "markdown",
   "metadata": {
    "id": "J261z_FvOK_p"
   },
   "source": [
    "# Splitting the Data"
   ]
  },
  {
   "cell_type": "code",
   "execution_count": 64,
   "metadata": {
    "id": "uSdIiKQLOOEQ"
   },
   "outputs": [],
   "source": [
    "def get_train_test_val(data, test_per_period, val_per_period):\n",
    "    \"\"\"Splits data across periods into train, test, and validation\"\"\"\n",
    "    # assign the last `test_per_period` rows from each period to test\n",
    "    test = data.groupby(\"period\").tail(test_per_period)\n",
    "    interim = data[~data.index.isin(test.index)]\n",
    "    # assign the last `val_per_period` from the remaining rows to validation\n",
    "    val = interim.groupby(\"period\").tail(val_per_period)\n",
    "    # the remaining rows are assigned to train\n",
    "    train = interim[~interim.index.isin(val.index)]\n",
    "    return train, test, val\n",
    "\n",
    "\n",
    "train, test, val = get_train_test_val(data, test_per_period=6_000, val_per_period=3_000)"
   ]
  },
  {
   "cell_type": "markdown",
   "metadata": {
    "id": "HqKPO3qXOWDb"
   },
   "source": [
    "## We can visualize our splits by plotting a horizontal barchart depicting the counts across periods."
   ]
  },
  {
   "cell_type": "code",
   "execution_count": 65,
   "metadata": {
    "colab": {
     "base_uri": "https://localhost:8080/",
     "height": 0
    },
    "id": "8mapzk9eOYMt",
    "outputId": "637f0e0c-2e1e-4fe8-fe79-4b6fae394f2c"
   },
   "outputs": [
    {
     "data": {
      "text/plain": [
       "<matplotlib.legend.Legend at 0x7fb09b38d760>"
      ]
     },
     "execution_count": 65,
     "metadata": {},
     "output_type": "execute_result"
    },
    {
     "data": {
      "image/png": "[encoded data removed]",
      "text/plain": [
       "<Figure size 432x288 with 1 Axes>"
      ]
     },
     "metadata": {
      "needs_background": "light"
     },
     "output_type": "display_data"
    }
   ],
   "source": [
    "ind = [0, 1, 2]\n",
    "names = [\"train_a\", \"train_b\", \"train_c\"]\n",
    "width = 0.75\n",
    "train_cnts = [len(df) for _, df in train.groupby(\"period\")]\n",
    "val_cnts = [len(df) for _, df in val.groupby(\"period\")]\n",
    "test_cnts = [len(df) for _, df in test.groupby(\"period\")]\n",
    "\n",
    "p1 = plt.barh(ind, train_cnts, width)\n",
    "p2 = plt.barh(ind, val_cnts, width, left=train_cnts)\n",
    "p3 = plt.barh(ind, test_cnts, width, left=np.add(val_cnts, train_cnts).tolist())\n",
    "\n",
    "plt.yticks(ind, names)\n",
    "plt.ylabel(\"Period\")\n",
    "plt.xlabel(\"Hourly Timesteps\")\n",
    "plt.title(\"Train/Validation/Test Splits over Periods\", fontsize=16)\n",
    "plt.legend([\"Train\", \"Validation\", \"Test\"])"
   ]
  },
  {
   "cell_type": "markdown",
   "metadata": {
    "id": "_islsePpOgRI"
   },
   "source": [
    "## Final visual inspection of each of our \"Training\", \"Test\", and \"Validation\" datasets"
   ]
  },
  {
   "cell_type": "code",
   "execution_count": 66,
   "metadata": {
    "colab": {
     "base_uri": "https://localhost:8080/",
     "height": 0
    },
    "id": "0zdssN9POjE4",
    "outputId": "195752b3-334e-40a5-d601-5386684c5c1b"
   },
   "outputs": [
    {
     "name": "stdout",
     "output_type": "stream",
     "text": [
      "(112872, 17)\n"
     ]
    },
    {
     "data": {
      "text/html": [
       "<div>\n",
       "<style scoped>\n",
       "    .dataframe tbody tr th:only-of-type {\n",
       "        vertical-align: middle;\n",
       "    }\n",
       "\n",
       "    .dataframe tbody tr th {\n",
       "        vertical-align: top;\n",
       "    }\n",
       "\n",
       "    .dataframe thead th {\n",
       "        text-align: right;\n",
       "    }\n",
       "</style>\n",
       "<table border=\"1\" class=\"dataframe\">\n",
       "  <thead>\n",
       "    <tr style=\"text-align: right;\">\n",
       "      <th></th>\n",
       "      <th></th>\n",
       "      <th>t0</th>\n",
       "      <th>t1</th>\n",
       "      <th>bt_mean</th>\n",
       "      <th>bt_std</th>\n",
       "      <th>temperature_mean</th>\n",
       "      <th>temperature_std</th>\n",
       "      <th>bx_gsm_mean</th>\n",
       "      <th>bx_gsm_std</th>\n",
       "      <th>by_gsm_mean</th>\n",
       "      <th>by_gsm_std</th>\n",
       "      <th>bz_gsm_mean</th>\n",
       "      <th>bz_gsm_std</th>\n",
       "      <th>speed_mean</th>\n",
       "      <th>speed_std</th>\n",
       "      <th>density_mean</th>\n",
       "      <th>density_std</th>\n",
       "      <th>smoothed_ssn</th>\n",
       "    </tr>\n",
       "    <tr>\n",
       "      <th>period</th>\n",
       "      <th>timedelta</th>\n",
       "      <th></th>\n",
       "      <th></th>\n",
       "      <th></th>\n",
       "      <th></th>\n",
       "      <th></th>\n",
       "      <th></th>\n",
       "      <th></th>\n",
       "      <th></th>\n",
       "      <th></th>\n",
       "      <th></th>\n",
       "      <th></th>\n",
       "      <th></th>\n",
       "      <th></th>\n",
       "      <th></th>\n",
       "      <th></th>\n",
       "      <th></th>\n",
       "      <th></th>\n",
       "    </tr>\n",
       "  </thead>\n",
       "  <tbody>\n",
       "    <tr>\n",
       "      <th rowspan=\"5\" valign=\"top\">train_a</th>\n",
       "      <th>0 days 00:00:00</th>\n",
       "      <td>-10.0</td>\n",
       "      <td>-10.0</td>\n",
       "      <td>0.499705</td>\n",
       "      <td>2.443614</td>\n",
       "      <td>-0.375267</td>\n",
       "      <td>0.383941</td>\n",
       "      <td>-1.600307</td>\n",
       "      <td>-0.381727</td>\n",
       "      <td>0.434424</td>\n",
       "      <td>0.021156</td>\n",
       "      <td>0.292754</td>\n",
       "      <td>-0.645095</td>\n",
       "      <td>-0.738546</td>\n",
       "      <td>0.862524</td>\n",
       "      <td>-0.775827</td>\n",
       "      <td>-0.205724</td>\n",
       "      <td>0.139444</td>\n",
       "    </tr>\n",
       "    <tr>\n",
       "      <th>0 days 01:00:00</th>\n",
       "      <td>-10.0</td>\n",
       "      <td>-6.0</td>\n",
       "      <td>0.547177</td>\n",
       "      <td>-0.224580</td>\n",
       "      <td>-0.479430</td>\n",
       "      <td>0.953178</td>\n",
       "      <td>-1.759200</td>\n",
       "      <td>-0.868044</td>\n",
       "      <td>0.189021</td>\n",
       "      <td>-0.282845</td>\n",
       "      <td>0.433737</td>\n",
       "      <td>-0.511040</td>\n",
       "      <td>-0.986904</td>\n",
       "      <td>0.995063</td>\n",
       "      <td>-0.861692</td>\n",
       "      <td>-0.058215</td>\n",
       "      <td>0.139444</td>\n",
       "    </tr>\n",
       "    <tr>\n",
       "      <th>0 days 02:00:00</th>\n",
       "      <td>-6.0</td>\n",
       "      <td>-2.0</td>\n",
       "      <td>0.739905</td>\n",
       "      <td>-0.770240</td>\n",
       "      <td>-0.574831</td>\n",
       "      <td>-0.192518</td>\n",
       "      <td>-1.913422</td>\n",
       "      <td>-1.114649</td>\n",
       "      <td>0.193116</td>\n",
       "      <td>-0.831526</td>\n",
       "      <td>0.747220</td>\n",
       "      <td>-0.870482</td>\n",
       "      <td>-1.013548</td>\n",
       "      <td>0.554085</td>\n",
       "      <td>-0.846222</td>\n",
       "      <td>-0.220012</td>\n",
       "      <td>0.139444</td>\n",
       "    </tr>\n",
       "    <tr>\n",
       "      <th>0 days 03:00:00</th>\n",
       "      <td>-2.0</td>\n",
       "      <td>3.0</td>\n",
       "      <td>0.699098</td>\n",
       "      <td>-0.278783</td>\n",
       "      <td>-0.324709</td>\n",
       "      <td>0.325491</td>\n",
       "      <td>-1.810283</td>\n",
       "      <td>-0.783326</td>\n",
       "      <td>-0.380282</td>\n",
       "      <td>0.330015</td>\n",
       "      <td>0.603107</td>\n",
       "      <td>-0.282789</td>\n",
       "      <td>-0.826469</td>\n",
       "      <td>-0.211185</td>\n",
       "      <td>-0.404306</td>\n",
       "      <td>0.218373</td>\n",
       "      <td>0.139444</td>\n",
       "    </tr>\n",
       "    <tr>\n",
       "      <th>0 days 04:00:00</th>\n",
       "      <td>3.0</td>\n",
       "      <td>5.0</td>\n",
       "      <td>0.223933</td>\n",
       "      <td>-0.225168</td>\n",
       "      <td>-0.313432</td>\n",
       "      <td>0.201600</td>\n",
       "      <td>-1.339730</td>\n",
       "      <td>-0.485151</td>\n",
       "      <td>0.080228</td>\n",
       "      <td>1.010471</td>\n",
       "      <td>0.454560</td>\n",
       "      <td>-0.471111</td>\n",
       "      <td>-0.601238</td>\n",
       "      <td>1.016033</td>\n",
       "      <td>-0.371487</td>\n",
       "      <td>0.097253</td>\n",
       "      <td>0.139444</td>\n",
       "    </tr>\n",
       "  </tbody>\n",
       "</table>\n",
       "</div>"
      ],
      "text/plain": [
       "                           t0    t1   bt_mean    bt_std  temperature_mean  \\\n",
       "period  timedelta                                                           \n",
       "train_a 0 days 00:00:00 -10.0 -10.0  0.499705  2.443614         -0.375267   \n",
       "        0 days 01:00:00 -10.0  -6.0  0.547177 -0.224580         -0.479430   \n",
       "        0 days 02:00:00  -6.0  -2.0  0.739905 -0.770240         -0.574831   \n",
       "        0 days 03:00:00  -2.0   3.0  0.699098 -0.278783         -0.324709   \n",
       "        0 days 04:00:00   3.0   5.0  0.223933 -0.225168         -0.313432   \n",
       "\n",
       "                         temperature_std  bx_gsm_mean  bx_gsm_std  \\\n",
       "period  timedelta                                                   \n",
       "train_a 0 days 00:00:00         0.383941    -1.600307   -0.381727   \n",
       "        0 days 01:00:00         0.953178    -1.759200   -0.868044   \n",
       "        0 days 02:00:00        -0.192518    -1.913422   -1.114649   \n",
       "        0 days 03:00:00         0.325491    -1.810283   -0.783326   \n",
       "        0 days 04:00:00         0.201600    -1.339730   -0.485151   \n",
       "\n",
       "                         by_gsm_mean  by_gsm_std  bz_gsm_mean  bz_gsm_std  \\\n",
       "period  timedelta                                                           \n",
       "train_a 0 days 00:00:00     0.434424    0.021156     0.292754   -0.645095   \n",
       "        0 days 01:00:00     0.189021   -0.282845     0.433737   -0.511040   \n",
       "        0 days 02:00:00     0.193116   -0.831526     0.747220   -0.870482   \n",
       "        0 days 03:00:00    -0.380282    0.330015     0.603107   -0.282789   \n",
       "        0 days 04:00:00     0.080228    1.010471     0.454560   -0.471111   \n",
       "\n",
       "                         speed_mean  speed_std  density_mean  density_std  \\\n",
       "period  timedelta                                                           \n",
       "train_a 0 days 00:00:00   -0.738546   0.862524     -0.775827    -0.205724   \n",
       "        0 days 01:00:00   -0.986904   0.995063     -0.861692    -0.058215   \n",
       "        0 days 02:00:00   -1.013548   0.554085     -0.846222    -0.220012   \n",
       "        0 days 03:00:00   -0.826469  -0.211185     -0.404306     0.218373   \n",
       "        0 days 04:00:00   -0.601238   1.016033     -0.371487     0.097253   \n",
       "\n",
       "                         smoothed_ssn  \n",
       "period  timedelta                      \n",
       "train_a 0 days 00:00:00      0.139444  \n",
       "        0 days 01:00:00      0.139444  \n",
       "        0 days 02:00:00      0.139444  \n",
       "        0 days 03:00:00      0.139444  \n",
       "        0 days 04:00:00      0.139444  "
      ]
     },
     "execution_count": 66,
     "metadata": {},
     "output_type": "execute_result"
    }
   ],
   "source": [
    "print(train.shape)\n",
    "train.head()"
   ]
  },
  {
   "cell_type": "code",
   "execution_count": 67,
   "metadata": {
    "colab": {
     "base_uri": "https://localhost:8080/",
     "height": 0
    },
    "id": "DdVye7Q6OuW5",
    "outputId": "5641829a-e0d8-45ca-a725-d10292bc84bb"
   },
   "outputs": [
    {
     "name": "stdout",
     "output_type": "stream",
     "text": [
      "(18000, 17)\n"
     ]
    },
    {
     "data": {
      "text/html": [
       "<div>\n",
       "<style scoped>\n",
       "    .dataframe tbody tr th:only-of-type {\n",
       "        vertical-align: middle;\n",
       "    }\n",
       "\n",
       "    .dataframe tbody tr th {\n",
       "        vertical-align: top;\n",
       "    }\n",
       "\n",
       "    .dataframe thead th {\n",
       "        text-align: right;\n",
       "    }\n",
       "</style>\n",
       "<table border=\"1\" class=\"dataframe\">\n",
       "  <thead>\n",
       "    <tr style=\"text-align: right;\">\n",
       "      <th></th>\n",
       "      <th></th>\n",
       "      <th>t0</th>\n",
       "      <th>t1</th>\n",
       "      <th>bt_mean</th>\n",
       "      <th>bt_std</th>\n",
       "      <th>temperature_mean</th>\n",
       "      <th>temperature_std</th>\n",
       "      <th>bx_gsm_mean</th>\n",
       "      <th>bx_gsm_std</th>\n",
       "      <th>by_gsm_mean</th>\n",
       "      <th>by_gsm_std</th>\n",
       "      <th>bz_gsm_mean</th>\n",
       "      <th>bz_gsm_std</th>\n",
       "      <th>speed_mean</th>\n",
       "      <th>speed_std</th>\n",
       "      <th>density_mean</th>\n",
       "      <th>density_std</th>\n",
       "      <th>smoothed_ssn</th>\n",
       "    </tr>\n",
       "    <tr>\n",
       "      <th>period</th>\n",
       "      <th>timedelta</th>\n",
       "      <th></th>\n",
       "      <th></th>\n",
       "      <th></th>\n",
       "      <th></th>\n",
       "      <th></th>\n",
       "      <th></th>\n",
       "      <th></th>\n",
       "      <th></th>\n",
       "      <th></th>\n",
       "      <th></th>\n",
       "      <th></th>\n",
       "      <th></th>\n",
       "      <th></th>\n",
       "      <th></th>\n",
       "      <th></th>\n",
       "      <th></th>\n",
       "      <th></th>\n",
       "    </tr>\n",
       "  </thead>\n",
       "  <tbody>\n",
       "    <tr>\n",
       "      <th rowspan=\"5\" valign=\"top\">train_a</th>\n",
       "      <th>951 days 00:00:00</th>\n",
       "      <td>-9.0</td>\n",
       "      <td>-9.0</td>\n",
       "      <td>-0.750759</td>\n",
       "      <td>0.234958</td>\n",
       "      <td>-0.321374</td>\n",
       "      <td>-0.263304</td>\n",
       "      <td>0.437725</td>\n",
       "      <td>-0.443382</td>\n",
       "      <td>-0.029034</td>\n",
       "      <td>0.535552</td>\n",
       "      <td>0.847807</td>\n",
       "      <td>-0.303401</td>\n",
       "      <td>-0.145924</td>\n",
       "      <td>-0.503193</td>\n",
       "      <td>-0.407614</td>\n",
       "      <td>-0.315154</td>\n",
       "      <td>2.113449</td>\n",
       "    </tr>\n",
       "    <tr>\n",
       "      <th>951 days 01:00:00</th>\n",
       "      <td>-9.0</td>\n",
       "      <td>-6.0</td>\n",
       "      <td>-0.791318</td>\n",
       "      <td>0.284752</td>\n",
       "      <td>-0.319784</td>\n",
       "      <td>-0.301259</td>\n",
       "      <td>0.321538</td>\n",
       "      <td>0.422262</td>\n",
       "      <td>-0.064711</td>\n",
       "      <td>0.149080</td>\n",
       "      <td>0.799132</td>\n",
       "      <td>-0.226211</td>\n",
       "      <td>-0.127991</td>\n",
       "      <td>-0.084971</td>\n",
       "      <td>-0.427620</td>\n",
       "      <td>-0.198320</td>\n",
       "      <td>2.113449</td>\n",
       "    </tr>\n",
       "    <tr>\n",
       "      <th>951 days 02:00:00</th>\n",
       "      <td>-6.0</td>\n",
       "      <td>-7.0</td>\n",
       "      <td>-0.980331</td>\n",
       "      <td>0.573975</td>\n",
       "      <td>-0.257948</td>\n",
       "      <td>-0.344924</td>\n",
       "      <td>0.531028</td>\n",
       "      <td>0.818507</td>\n",
       "      <td>-0.095468</td>\n",
       "      <td>0.329294</td>\n",
       "      <td>0.176357</td>\n",
       "      <td>-0.555706</td>\n",
       "      <td>-0.120626</td>\n",
       "      <td>-0.310757</td>\n",
       "      <td>-0.435274</td>\n",
       "      <td>-0.374498</td>\n",
       "      <td>2.113449</td>\n",
       "    </tr>\n",
       "    <tr>\n",
       "      <th>951 days 03:00:00</th>\n",
       "      <td>-7.0</td>\n",
       "      <td>-7.0</td>\n",
       "      <td>-1.043536</td>\n",
       "      <td>-0.412378</td>\n",
       "      <td>-0.209809</td>\n",
       "      <td>-0.397676</td>\n",
       "      <td>0.754383</td>\n",
       "      <td>-0.432802</td>\n",
       "      <td>-0.115941</td>\n",
       "      <td>-0.172114</td>\n",
       "      <td>0.168590</td>\n",
       "      <td>-0.536622</td>\n",
       "      <td>-0.180313</td>\n",
       "      <td>-0.531222</td>\n",
       "      <td>-0.414209</td>\n",
       "      <td>-0.365694</td>\n",
       "      <td>2.113449</td>\n",
       "    </tr>\n",
       "    <tr>\n",
       "      <th>951 days 04:00:00</th>\n",
       "      <td>-7.0</td>\n",
       "      <td>-9.0</td>\n",
       "      <td>-0.993770</td>\n",
       "      <td>-0.603035</td>\n",
       "      <td>-0.189010</td>\n",
       "      <td>-0.402766</td>\n",
       "      <td>0.789898</td>\n",
       "      <td>-0.391422</td>\n",
       "      <td>-0.285313</td>\n",
       "      <td>-0.384450</td>\n",
       "      <td>-0.021791</td>\n",
       "      <td>-0.507569</td>\n",
       "      <td>-0.219717</td>\n",
       "      <td>-0.649039</td>\n",
       "      <td>-0.437909</td>\n",
       "      <td>-0.267683</td>\n",
       "      <td>2.113449</td>\n",
       "    </tr>\n",
       "  </tbody>\n",
       "</table>\n",
       "</div>"
      ],
      "text/plain": [
       "                            t0   t1   bt_mean    bt_std  temperature_mean  \\\n",
       "period  timedelta                                                           \n",
       "train_a 951 days 00:00:00 -9.0 -9.0 -0.750759  0.234958         -0.321374   \n",
       "        951 days 01:00:00 -9.0 -6.0 -0.791318  0.284752         -0.319784   \n",
       "        951 days 02:00:00 -6.0 -7.0 -0.980331  0.573975         -0.257948   \n",
       "        951 days 03:00:00 -7.0 -7.0 -1.043536 -0.412378         -0.209809   \n",
       "        951 days 04:00:00 -7.0 -9.0 -0.993770 -0.603035         -0.189010   \n",
       "\n",
       "                           temperature_std  bx_gsm_mean  bx_gsm_std  \\\n",
       "period  timedelta                                                     \n",
       "train_a 951 days 00:00:00        -0.263304     0.437725   -0.443382   \n",
       "        951 days 01:00:00        -0.301259     0.321538    0.422262   \n",
       "        951 days 02:00:00        -0.344924     0.531028    0.818507   \n",
       "        951 days 03:00:00        -0.397676     0.754383   -0.432802   \n",
       "        951 days 04:00:00        -0.402766     0.789898   -0.391422   \n",
       "\n",
       "                           by_gsm_mean  by_gsm_std  bz_gsm_mean  bz_gsm_std  \\\n",
       "period  timedelta                                                             \n",
       "train_a 951 days 00:00:00    -0.029034    0.535552     0.847807   -0.303401   \n",
       "        951 days 01:00:00    -0.064711    0.149080     0.799132   -0.226211   \n",
       "        951 days 02:00:00    -0.095468    0.329294     0.176357   -0.555706   \n",
       "        951 days 03:00:00    -0.115941   -0.172114     0.168590   -0.536622   \n",
       "        951 days 04:00:00    -0.285313   -0.384450    -0.021791   -0.507569   \n",
       "\n",
       "                           speed_mean  speed_std  density_mean  density_std  \\\n",
       "period  timedelta                                                             \n",
       "train_a 951 days 00:00:00   -0.145924  -0.503193     -0.407614    -0.315154   \n",
       "        951 days 01:00:00   -0.127991  -0.084971     -0.427620    -0.198320   \n",
       "        951 days 02:00:00   -0.120626  -0.310757     -0.435274    -0.374498   \n",
       "        951 days 03:00:00   -0.180313  -0.531222     -0.414209    -0.365694   \n",
       "        951 days 04:00:00   -0.219717  -0.649039     -0.437909    -0.267683   \n",
       "\n",
       "                           smoothed_ssn  \n",
       "period  timedelta                        \n",
       "train_a 951 days 00:00:00      2.113449  \n",
       "        951 days 01:00:00      2.113449  \n",
       "        951 days 02:00:00      2.113449  \n",
       "        951 days 03:00:00      2.113449  \n",
       "        951 days 04:00:00      2.113449  "
      ]
     },
     "execution_count": 67,
     "metadata": {},
     "output_type": "execute_result"
    }
   ],
   "source": [
    "print(test.shape)\n",
    "test.head()"
   ]
  },
  {
   "cell_type": "code",
   "execution_count": 68,
   "metadata": {
    "colab": {
     "base_uri": "https://localhost:8080/",
     "height": 0
    },
    "id": "XDWiaLh0OwQb",
    "outputId": "8be02465-d16d-45b5-e9d5-7d822ab9792d"
   },
   "outputs": [
    {
     "name": "stdout",
     "output_type": "stream",
     "text": [
      "(9000, 17)\n"
     ]
    },
    {
     "data": {
      "text/html": [
       "<div>\n",
       "<style scoped>\n",
       "    .dataframe tbody tr th:only-of-type {\n",
       "        vertical-align: middle;\n",
       "    }\n",
       "\n",
       "    .dataframe tbody tr th {\n",
       "        vertical-align: top;\n",
       "    }\n",
       "\n",
       "    .dataframe thead th {\n",
       "        text-align: right;\n",
       "    }\n",
       "</style>\n",
       "<table border=\"1\" class=\"dataframe\">\n",
       "  <thead>\n",
       "    <tr style=\"text-align: right;\">\n",
       "      <th></th>\n",
       "      <th></th>\n",
       "      <th>t0</th>\n",
       "      <th>t1</th>\n",
       "      <th>bt_mean</th>\n",
       "      <th>bt_std</th>\n",
       "      <th>temperature_mean</th>\n",
       "      <th>temperature_std</th>\n",
       "      <th>bx_gsm_mean</th>\n",
       "      <th>bx_gsm_std</th>\n",
       "      <th>by_gsm_mean</th>\n",
       "      <th>by_gsm_std</th>\n",
       "      <th>bz_gsm_mean</th>\n",
       "      <th>bz_gsm_std</th>\n",
       "      <th>speed_mean</th>\n",
       "      <th>speed_std</th>\n",
       "      <th>density_mean</th>\n",
       "      <th>density_std</th>\n",
       "      <th>smoothed_ssn</th>\n",
       "    </tr>\n",
       "    <tr>\n",
       "      <th>period</th>\n",
       "      <th>timedelta</th>\n",
       "      <th></th>\n",
       "      <th></th>\n",
       "      <th></th>\n",
       "      <th></th>\n",
       "      <th></th>\n",
       "      <th></th>\n",
       "      <th></th>\n",
       "      <th></th>\n",
       "      <th></th>\n",
       "      <th></th>\n",
       "      <th></th>\n",
       "      <th></th>\n",
       "      <th></th>\n",
       "      <th></th>\n",
       "      <th></th>\n",
       "      <th></th>\n",
       "      <th></th>\n",
       "    </tr>\n",
       "  </thead>\n",
       "  <tbody>\n",
       "    <tr>\n",
       "      <th rowspan=\"5\" valign=\"top\">train_a</th>\n",
       "      <th>826 days 00:00:00</th>\n",
       "      <td>8.0</td>\n",
       "      <td>8.0</td>\n",
       "      <td>0.947600</td>\n",
       "      <td>-0.229038</td>\n",
       "      <td>-0.473006</td>\n",
       "      <td>-0.372466</td>\n",
       "      <td>-1.576857</td>\n",
       "      <td>-0.883102</td>\n",
       "      <td>-0.452683</td>\n",
       "      <td>1.126953</td>\n",
       "      <td>1.736395</td>\n",
       "      <td>-0.218641</td>\n",
       "      <td>-0.323757</td>\n",
       "      <td>-0.527592</td>\n",
       "      <td>0.392352</td>\n",
       "      <td>-0.296261</td>\n",
       "      <td>2.191722</td>\n",
       "    </tr>\n",
       "    <tr>\n",
       "      <th>826 days 01:00:00</th>\n",
       "      <td>8.0</td>\n",
       "      <td>9.0</td>\n",
       "      <td>0.464361</td>\n",
       "      <td>0.276422</td>\n",
       "      <td>0.316358</td>\n",
       "      <td>0.379133</td>\n",
       "      <td>-1.615778</td>\n",
       "      <td>-0.280737</td>\n",
       "      <td>0.240716</td>\n",
       "      <td>0.600711</td>\n",
       "      <td>0.668598</td>\n",
       "      <td>0.280798</td>\n",
       "      <td>-0.155733</td>\n",
       "      <td>0.142157</td>\n",
       "      <td>0.022523</td>\n",
       "      <td>-0.150077</td>\n",
       "      <td>2.191722</td>\n",
       "    </tr>\n",
       "    <tr>\n",
       "      <th>826 days 02:00:00</th>\n",
       "      <td>9.0</td>\n",
       "      <td>8.0</td>\n",
       "      <td>0.273709</td>\n",
       "      <td>0.197794</td>\n",
       "      <td>0.073052</td>\n",
       "      <td>0.302776</td>\n",
       "      <td>-1.130926</td>\n",
       "      <td>0.809599</td>\n",
       "      <td>0.634785</td>\n",
       "      <td>0.022706</td>\n",
       "      <td>-1.065113</td>\n",
       "      <td>-0.260871</td>\n",
       "      <td>-0.072557</td>\n",
       "      <td>0.563556</td>\n",
       "      <td>-0.200011</td>\n",
       "      <td>-0.089490</td>\n",
       "      <td>2.191722</td>\n",
       "    </tr>\n",
       "    <tr>\n",
       "      <th>826 days 03:00:00</th>\n",
       "      <td>8.0</td>\n",
       "      <td>8.0</td>\n",
       "      <td>0.078250</td>\n",
       "      <td>0.445950</td>\n",
       "      <td>0.290167</td>\n",
       "      <td>0.460514</td>\n",
       "      <td>-0.943961</td>\n",
       "      <td>1.891885</td>\n",
       "      <td>0.096146</td>\n",
       "      <td>0.320869</td>\n",
       "      <td>-0.639369</td>\n",
       "      <td>1.102916</td>\n",
       "      <td>-0.001116</td>\n",
       "      <td>0.127350</td>\n",
       "      <td>0.135548</td>\n",
       "      <td>0.048349</td>\n",
       "      <td>2.191722</td>\n",
       "    </tr>\n",
       "    <tr>\n",
       "      <th>826 days 04:00:00</th>\n",
       "      <td>8.0</td>\n",
       "      <td>8.0</td>\n",
       "      <td>-0.172001</td>\n",
       "      <td>0.071668</td>\n",
       "      <td>0.336941</td>\n",
       "      <td>0.437184</td>\n",
       "      <td>-0.772419</td>\n",
       "      <td>0.408780</td>\n",
       "      <td>0.457875</td>\n",
       "      <td>0.357308</td>\n",
       "      <td>-0.571308</td>\n",
       "      <td>0.804317</td>\n",
       "      <td>0.063829</td>\n",
       "      <td>0.143625</td>\n",
       "      <td>-0.027986</td>\n",
       "      <td>-0.066235</td>\n",
       "      <td>2.191722</td>\n",
       "    </tr>\n",
       "  </tbody>\n",
       "</table>\n",
       "</div>"
      ],
      "text/plain": [
       "                            t0   t1   bt_mean    bt_std  temperature_mean  \\\n",
       "period  timedelta                                                           \n",
       "train_a 826 days 00:00:00  8.0  8.0  0.947600 -0.229038         -0.473006   \n",
       "        826 days 01:00:00  8.0  9.0  0.464361  0.276422          0.316358   \n",
       "        826 days 02:00:00  9.0  8.0  0.273709  0.197794          0.073052   \n",
       "        826 days 03:00:00  8.0  8.0  0.078250  0.445950          0.290167   \n",
       "        826 days 04:00:00  8.0  8.0 -0.172001  0.071668          0.336941   \n",
       "\n",
       "                           temperature_std  bx_gsm_mean  bx_gsm_std  \\\n",
       "period  timedelta                                                     \n",
       "train_a 826 days 00:00:00        -0.372466    -1.576857   -0.883102   \n",
       "        826 days 01:00:00         0.379133    -1.615778   -0.280737   \n",
       "        826 days 02:00:00         0.302776    -1.130926    0.809599   \n",
       "        826 days 03:00:00         0.460514    -0.943961    1.891885   \n",
       "        826 days 04:00:00         0.437184    -0.772419    0.408780   \n",
       "\n",
       "                           by_gsm_mean  by_gsm_std  bz_gsm_mean  bz_gsm_std  \\\n",
       "period  timedelta                                                             \n",
       "train_a 826 days 00:00:00    -0.452683    1.126953     1.736395   -0.218641   \n",
       "        826 days 01:00:00     0.240716    0.600711     0.668598    0.280798   \n",
       "        826 days 02:00:00     0.634785    0.022706    -1.065113   -0.260871   \n",
       "        826 days 03:00:00     0.096146    0.320869    -0.639369    1.102916   \n",
       "        826 days 04:00:00     0.457875    0.357308    -0.571308    0.804317   \n",
       "\n",
       "                           speed_mean  speed_std  density_mean  density_std  \\\n",
       "period  timedelta                                                             \n",
       "train_a 826 days 00:00:00   -0.323757  -0.527592      0.392352    -0.296261   \n",
       "        826 days 01:00:00   -0.155733   0.142157      0.022523    -0.150077   \n",
       "        826 days 02:00:00   -0.072557   0.563556     -0.200011    -0.089490   \n",
       "        826 days 03:00:00   -0.001116   0.127350      0.135548     0.048349   \n",
       "        826 days 04:00:00    0.063829   0.143625     -0.027986    -0.066235   \n",
       "\n",
       "                           smoothed_ssn  \n",
       "period  timedelta                        \n",
       "train_a 826 days 00:00:00      2.191722  \n",
       "        826 days 01:00:00      2.191722  \n",
       "        826 days 02:00:00      2.191722  \n",
       "        826 days 03:00:00      2.191722  \n",
       "        826 days 04:00:00      2.191722  "
      ]
     },
     "execution_count": 68,
     "metadata": {},
     "output_type": "execute_result"
    }
   ],
   "source": [
    "print(val.shape)\n",
    "val.head()"
   ]
  },
  {
   "cell_type": "markdown",
   "metadata": {
    "id": "Y07bR5JTPwra"
   },
   "source": [
    "# Build Model"
   ]
  },
  {
   "cell_type": "code",
   "execution_count": 69,
   "metadata": {
    "id": "7iZmS8x4QVqD"
   },
   "outputs": [],
   "source": [
    "# TODO: This line is needed cause blogpost was missing it\n",
    "import tensorflow.keras as keras\n",
    "#keras.preprocessing.timeseries_dataset_from_array\n",
    "import pprint     # TODO: move to top of file with common imports"
   ]
  },
  {
   "cell_type": "code",
   "execution_count": 70,
   "metadata": {
    "colab": {
     "base_uri": "https://localhost:8080/"
    },
    "id": "XD7CJDs0PzQ4",
    "outputId": "ac8ec3b7-dded-4f67-c885-41a4436100dc"
   },
   "outputs": [
    {
     "name": "stderr",
     "output_type": "stream",
     "text": [
      "2022-06-14 12:05:19.274783: I tensorflow/core/platform/cpu_feature_guard.cc:151] This TensorFlow binary is optimized with oneAPI Deep Neural Network Library (oneDNN) to use the following CPU instructions in performance-critical operations:  AVX2 FMA\n",
      "To enable them in other operations, rebuild TensorFlow with the appropriate compiler flags.\n"
     ]
    },
    {
     "name": "stdout",
     "output_type": "stream",
     "text": [
      "Number of train batches: 3523\n",
      "Number of val batches: 276\n"
     ]
    }
   ],
   "source": [
    "from keras import preprocessing\n",
    "\n",
    "\n",
    "data_config = {\n",
    "    \"timesteps\": 32,\n",
    "    \"batch_size\": 32,\n",
    "}\n",
    "\n",
    "\n",
    "def timeseries_dataset_from_df(df, batch_size):\n",
    "    dataset = None\n",
    "    timesteps = data_config[\"timesteps\"]\n",
    "\n",
    "    # iterate through periods\n",
    "    for _, period_df in df.groupby(\"period\"):\n",
    "        # realign features and labels so that first sequence of 32 is aligned with the 33rd target\n",
    "        inputs = period_df[XCOLS][:-timesteps]\n",
    "        outputs = period_df[YCOLS][timesteps:]\n",
    "\n",
    "        # FIXME: the following original line gives the error:\n",
    "        #      AttributeError: module 'keras.preprocessing' has no attribute 'timeseries_dataset_from_array'\n",
    "#        period_ds = preprocessing.timeseries_dataset_from_array(\n",
    "        period_ds = keras.preprocessing.timeseries_dataset_from_array(\n",
    "            inputs,\n",
    "            outputs,\n",
    "            timesteps,\n",
    "            batch_size=batch_size,\n",
    "        )\n",
    "\n",
    "        if dataset is None:\n",
    "            dataset = period_ds\n",
    "        else:\n",
    "            dataset = dataset.concatenate(period_ds)\n",
    "        \n",
    "    return dataset\n",
    "\n",
    "\n",
    "train_ds = timeseries_dataset_from_df(train, data_config[\"batch_size\"])\n",
    "val_ds = timeseries_dataset_from_df(val, data_config[\"batch_size\"])\n",
    "\n",
    "print(f\"Number of train batches: {len(train_ds)}\")\n",
    "print(f\"Number of val batches: {len(val_ds)}\")"
   ]
  },
  {
   "cell_type": "markdown",
   "metadata": {
    "id": "DHXdMwzzTHaF"
   },
   "source": [
    "## Define LSTM Model"
   ]
  },
  {
   "cell_type": "markdown",
   "metadata": {
    "id": "1aMIfKprbeCI"
   },
   "source": [
    "<div class=\"alert alert-block alert-warning\">\n",
    "Configure our LSTM model to be more performant. Right now we are using very few epochs and neurons for development.\n",
    "</div>"
   ]
  },
  {
   "cell_type": "code",
   "execution_count": 71,
   "metadata": {
    "colab": {
     "base_uri": "https://localhost:8080/"
    },
    "id": "C966_JivTtcJ",
    "outputId": "cd0e6718-df46-4be7-fa89-8fb6039d8f82"
   },
   "outputs": [
    {
     "name": "stdout",
     "output_type": "stream",
     "text": [
      "Model: \"sequential\"\n",
      "_________________________________________________________________\n",
      " Layer (type)                Output Shape              Param #   \n",
      "=================================================================\n",
      " lstm (LSTM)                 (None, 64)                20480     \n",
      "                                                                 \n",
      " dense (Dense)               (None, 2)                 130       \n",
      "                                                                 \n",
      "=================================================================\n",
      "Total params: 20,610\n",
      "Trainable params: 20,610\n",
      "Non-trainable params: 0\n",
      "_________________________________________________________________\n"
     ]
    }
   ],
   "source": [
    "from keras.layers import Dense, LSTM\n",
    "from keras.models import Sequential\n",
    "\n",
    "# define our model\n",
    "# TODO: hyper parameter tuning\n",
    "# Going Big:\n",
    "# model_config = {\"n_epochs\": 30, \"n_neurons\": 2048, \"dropout\": 0.4, \"stateful\": False}\n",
    "# Original from blogpost, takes about 1.5 hours:\n",
    "# model_config = {\"n_epochs\": 20, \"n_neurons\": 512, \"dropout\": 0.4, \"stateful\": False}\n",
    "# Takes 10-15 minutes: \n",
    "model_config = {\"n_epochs\": 8, \"n_neurons\": 64, \"dropout\": 0.4, \"stateful\": False}\n",
    "# Takes 20 seconds (very bad performance):\n",
    "# model_config = {\"n_epochs\": 4, \"n_neurons\": 16, \"dropout\": 0.4, \"stateful\": False}\n",
    "\n",
    "model = Sequential()\n",
    "model.add(\n",
    "    LSTM(\n",
    "        model_config[\"n_neurons\"],\n",
    "        # usually set to (`batch_size`, `sequence_length`, `n_features`)\n",
    "        # setting the batch size to None allows for variable length batches\n",
    "        batch_input_shape=(None, data_config[\"timesteps\"], len(XCOLS)),\n",
    "        stateful=model_config[\"stateful\"],\n",
    "        dropout=model_config[\"dropout\"],\n",
    "    )\n",
    ")\n",
    "model.add(Dense(len(YCOLS)))\n",
    "model.compile(\n",
    "    loss=\"mean_squared_error\",\n",
    "    optimizer=\"adam\",\n",
    "    run_eagerly=None,                # set to True for debugging, None or False otherwise (slows things down)\n",
    ")\n",
    "\n",
    "model.summary()"
   ]
  },
  {
   "cell_type": "markdown",
   "metadata": {
    "id": "U4FM-_JaTygx"
   },
   "source": [
    "## Train Model"
   ]
  },
  {
   "cell_type": "code",
   "execution_count": 72,
   "metadata": {
    "colab": {
     "base_uri": "https://localhost:8080/"
    },
    "id": "MWiq8-BDTyz5",
    "outputId": "20c8f172-75e4-4d9f-cd58-9eaf658ac92f"
   },
   "outputs": [
    {
     "name": "stdout",
     "output_type": "stream",
     "text": [
      "Epoch 1/8\n",
      "3523/3523 [==============================] - 44s 12ms/step - loss: 272.1717 - val_loss: 380.1591\n",
      "Epoch 2/8\n",
      "3523/3523 [==============================] - 36s 10ms/step - loss: 187.0264 - val_loss: 331.0148\n",
      "Epoch 3/8\n",
      "3523/3523 [==============================] - 34s 10ms/step - loss: 162.1176 - val_loss: 299.9446\n",
      "Epoch 4/8\n",
      "3523/3523 [==============================] - 38s 11ms/step - loss: 148.1300 - val_loss: 280.8875\n",
      "Epoch 5/8\n",
      "3523/3523 [==============================] - 36s 10ms/step - loss: 139.8073 - val_loss: 270.8517\n",
      "Epoch 6/8\n",
      "3523/3523 [==============================] - 37s 10ms/step - loss: 132.7486 - val_loss: 256.6117\n",
      "Epoch 7/8\n",
      "3523/3523 [==============================] - 36s 10ms/step - loss: 129.2226 - val_loss: 248.4800\n",
      "Epoch 8/8\n",
      "3523/3523 [==============================] - 36s 10ms/step - loss: 124.7580 - val_loss: 241.2428\n"
     ]
    }
   ],
   "source": [
    "history = model.fit(\n",
    "    train_ds,\n",
    "    batch_size=data_config[\"batch_size\"],\n",
    "    epochs=model_config[\"n_epochs\"],\n",
    "    verbose=True,\n",
    "    shuffle=False,\n",
    "    validation_data=val_ds,\n",
    ")"
   ]
  },
  {
   "cell_type": "markdown",
   "metadata": {
    "id": "wkwxYtOqT8WT"
   },
   "source": [
    "## Evaluate Trained Model"
   ]
  },
  {
   "cell_type": "code",
   "execution_count": 73,
   "metadata": {
    "colab": {
     "base_uri": "https://localhost:8080/",
     "height": 0
    },
    "id": "87GD27_tT-JY",
    "outputId": "74efa4d9-faab-4821-e277-a77dd0a3dccd"
   },
   "outputs": [
    {
     "data": {
      "image/png": "[encoded data removed]",
      "text/plain": [
       "<Figure size 432x288 with 1 Axes>"
      ]
     },
     "metadata": {
      "needs_background": "light"
     },
     "output_type": "display_data"
    }
   ],
   "source": [
    "for name, values in history.history.items():\n",
    "    plt.plot(values, label=name)\n",
    "plt.legend(fontsize=14)\n",
    "plt.show()"
   ]
  },
  {
   "cell_type": "code",
   "execution_count": 74,
   "metadata": {
    "colab": {
     "base_uri": "https://localhost:8080/"
    },
    "id": "rvj69RaTUoBw",
    "outputId": "4be40542-0477-46bd-a90b-c12da99ee3e6"
   },
   "outputs": [
    {
     "name": "stdout",
     "output_type": "stream",
     "text": [
      "558/558 [==============================] - 2s 4ms/step - loss: 203.9577\n",
      "Test RMSE: 14.28\n"
     ]
    }
   ],
   "source": [
    "test_ds = timeseries_dataset_from_df(test, data_config[\"batch_size\"])\n",
    "rmse = model.evaluate(test_ds)**0.5\n",
    "print(f\"Test RMSE: {rmse:.2f}\")"
   ]
  },
  {
   "cell_type": "markdown",
   "metadata": {
    "id": "Jsey4js4HMK4"
   },
   "source": [
    "# Save and Load the Model"
   ]
  },
  {
   "cell_type": "markdown",
   "metadata": {
    "id": "nl-bgU9WHXQO"
   },
   "source": [
    "## Save: Pickle our scaler and save our config to json"
   ]
  },
  {
   "cell_type": "code",
   "execution_count": 75,
   "metadata": {
    "colab": {
     "base_uri": "https://localhost:8080/"
    },
    "id": "FRJVvgXDHPJh",
    "outputId": "ee234357-8983-4122-a383-d997a35b30c2"
   },
   "outputs": [
    {
     "name": "stderr",
     "output_type": "stream",
     "text": [
      "2022-06-14 12:10:19.703388: W tensorflow/python/util/util.cc:368] Sets are not currently considered sequences, but this may change in the future, so consider avoiding using them.\n",
      "WARNING:absl:Found untraced functions such as lstm_cell_layer_call_fn, lstm_cell_layer_call_and_return_conditional_losses while saving (showing 2 of 2). These functions will not be directly callable after loading.\n"
     ]
    },
    {
     "name": "stdout",
     "output_type": "stream",
     "text": [
      "INFO:tensorflow:Assets written to: model_lstm_nepochs-08_nneurons-0064/assets\n"
     ]
    },
    {
     "name": "stderr",
     "output_type": "stream",
     "text": [
      "INFO:tensorflow:Assets written to: model_lstm_nepochs-08_nneurons-0064/assets\n",
      "WARNING:absl:<keras.layers.recurrent.LSTMCell object at 0x7fb0e777e7c0> has the same name 'LSTMCell' as a built-in Keras object. Consider renaming <class 'keras.layers.recurrent.LSTMCell'> to avoid naming conflicts when loading with `tf.keras.models.load_model`. If renaming is not possible, pass the object in the `custom_objects` parameter of the load function.\n"
     ]
    },
    {
     "name": "stdout",
     "output_type": "stream",
     "text": [
      "{'timesteps': 32, 'batch_size': 32, 'solar_wind_subset': ['bt', 'temperature', 'bx_gsm', 'by_gsm', 'bz_gsm', 'speed', 'density']}\n"
     ]
    }
   ],
   "source": [
    "import json\n",
    "import pickle\n",
    "\n",
    "dir_model = 'model_lstm_nepochs-%02d_nneurons-%04d/' % \\\n",
    "    (model_config['n_epochs'], model_config['n_neurons'])\n",
    "\n",
    "model.save(dir_model)\n",
    "\n",
    "with open(dir_model+\"/scaler.pck\", \"wb\") as f:\n",
    "    pickle.dump(scaler, f)\n",
    "\n",
    "data_config[\"solar_wind_subset\"] = SOLAR_WIND_FEATURES\n",
    "print(data_config)\n",
    "with open(dir_model+\"/config.json\", \"w\") as f:\n",
    "    json.dump(data_config, f)"
   ]
  },
  {
   "cell_type": "markdown",
   "metadata": {
    "id": "Zi4jSYUPbeCK"
   },
   "source": [
    "## Load Model and Scaler"
   ]
  },
  {
   "cell_type": "code",
   "execution_count": 76,
   "metadata": {
    "id": "YpYjboipHS0w"
   },
   "outputs": [],
   "source": [
    "import json\n",
    "import pickle\n",
    "\n",
    "import keras\n",
    "import numpy as np\n",
    "import pandas as pd\n",
    "\n",
    "# Load in serialized model, config, and scaler\n",
    "model = keras.models.load_model(\"model\")\n",
    "\n",
    "\n",
    "with open(\"config.json\", \"r\") as f:\n",
    "    CONFIG = json.load(f)\n",
    "\n",
    "with open(\"scaler.pck\", \"rb\") as f:\n",
    "    scaler = pickle.load(f)\n"
   ]
  },
  {
   "cell_type": "code",
   "execution_count": 77,
   "metadata": {
    "colab": {
     "base_uri": "https://localhost:8080/"
    },
    "id": "JhRluvZBbeCK",
    "outputId": "fdff16a5-26d3-494d-d7c4-ba309d5b2880"
   },
   "outputs": [
    {
     "name": "stdout",
     "output_type": "stream",
     "text": [
      "CONFIG: \n",
      "{'batch_size': 32,\n",
      " 'solar_wind_subset': ['bt',\n",
      "                       'temperature',\n",
      "                       'bx_gsm',\n",
      "                       'by_gsm',\n",
      "                       'bz_gsm',\n",
      "                       'speed',\n",
      "                       'density'],\n",
      " 'timesteps': 32}\n",
      "\n",
      "\n",
      "Model: \"sequential_1\"\n",
      "_________________________________________________________________\n",
      " Layer (type)                Output Shape              Param #   \n",
      "=================================================================\n",
      " lstm_1 (LSTM)               (None, 1024)              4259840   \n",
      "                                                                 \n",
      " dense_1 (Dense)             (None, 2)                 2050      \n",
      "                                                                 \n",
      "=================================================================\n",
      "Total params: 4,261,890\n",
      "Trainable params: 4,261,890\n",
      "Non-trainable params: 0\n",
      "_________________________________________________________________\n",
      "Scaler:\n",
      "StandardScaler()\n",
      "{'copy': True,\n",
      " 'feature_names_in_': array(['bt_mean', 'bt_std', 'temperature_mean', 'temperature_std',\n",
      "       'bx_gsm_mean', 'bx_gsm_std', 'by_gsm_mean', 'by_gsm_std',\n",
      "       'bz_gsm_mean', 'bz_gsm_std', 'speed_mean', 'speed_std',\n",
      "       'density_mean', 'density_std', 'smoothed_ssn'], dtype=object),\n",
      " 'mean_': array([ 5.61542979e+00,  4.33176343e-01,  1.13360380e+05,  2.27749048e+04,\n",
      "       -6.67188609e-01,  1.03915501e+00,  8.94522478e-02,  1.20264772e+00,\n",
      "       -2.85060368e-02,  1.30787129e+00,  4.30312768e+02,  8.11704203e+00,\n",
      "        4.42088358e+00,  7.88339158e-01,  5.80958333e+01]),\n",
      " 'n_features_in_': 15,\n",
      " 'n_samples_seen_': array([137324, 137264, 136544, 136407, 137324, 137264, 137324, 137264,\n",
      "       137324, 137264, 136628, 136527, 136628, 136528,    192]),\n",
      " 'scale_': array([3.05093849e+00, 4.80381263e-01, 1.12690517e+05, 3.24594918e+04,\n",
      "       3.42578810e+00, 8.41692474e-01, 3.58186765e+00, 1.04491732e+00,\n",
      "       2.98262035e+00, 1.12827285e+00, 9.98194787e+01, 8.83732675e+00,\n",
      "       4.12230203e+00, 1.41766495e+00, 5.23808090e+01]),\n",
      " 'var_': array([9.30822567e+00, 2.30766158e-01, 1.26991525e+10, 1.05361861e+09,\n",
      "       1.17360241e+01, 7.08446221e-01, 1.28297759e+01, 1.09185221e+00,\n",
      "       8.89602416e+00, 1.27299962e+00, 9.96392832e+03, 7.80983440e+01,\n",
      "       1.69933740e+01, 2.00977392e+00, 2.74374915e+03]),\n",
      " 'with_mean': True,\n",
      " 'with_std': True}\n"
     ]
    }
   ],
   "source": [
    "import pprint\n",
    "\n",
    "print('CONFIG: '), pprint.pprint(CONFIG), print('\\n')\n",
    "\n",
    "model.summary()\n",
    "\n",
    "print('Scaler:')\n",
    "print(scaler)\n",
    "pprint.pprint(scaler.__dict__)\n"
   ]
  },
  {
   "cell_type": "markdown",
   "metadata": {
    "id": "X2o3MHneUD0M"
   },
   "source": [
    "# Explainable AI (XAI)"
   ]
  },
  {
   "cell_type": "markdown",
   "metadata": {
    "id": "ZxmhOeEBNnE2"
   },
   "source": [
    "## Permutation Importance - Easy Approximation\n",
    "\n",
    "Based on Christoph Molnar's \"Interpretable Machine Learning\" [Permutation Feature Importance](https://christophm.github.io/interpretable-ml-book/feature-importance.html) section and Fisher, Rudin, and Dominici (2018), we will \"split the dataset in half and swap the values of feature j of the two halves instead of permuting feature j\". \n",
    "\n",
    "Additional Resources:\n",
    "*   [See this illustrative graphic demonstrating single- and multi-pass Permutation Importance](https://permutationimportance.readthedocs.io/en/latest/methods.html#permutation-importance)\n",
    "*   [Permutation Feature Importance in the <i>scikit-learn</i> module](https://scikit-learn.org/stable/modules/permutation_importance.html)\n",
    "\n"
   ]
  },
  {
   "cell_type": "markdown",
   "metadata": {
    "id": "p7EOUeO6TEcZ"
   },
   "source": [
    "Basically, we can split and swap the feature datasets one feature at a time and compare the resultant RMSE. We take a programming convenience shortcut and simply reverse a feature vector rather than split and swap and we expect the same results. \n",
    "\n",
    "Recall that our <i>test_ds</i> which we used to evaluate the model performance is a <i>[tensorflow.python.data.ops.dataset_ops.BatchDataset](https://www.tensorflow.org/guide/data#batching_dataset_elements)</i> and these are honestly kind of hard to work with. So we will recreate a deep copy of <i>test_ds</i> for each permutation and so we don't corrupt the original."
   ]
  },
  {
   "cell_type": "code",
   "execution_count": 78,
   "metadata": {
    "id": "JhBr9xlT3IdZ"
   },
   "outputs": [],
   "source": [
    "# FIXME: Getting that strange error, even though we already loaded these modules in \"Build Model\" \n",
    "#      AttributeError: module 'keras.preprocessing' has no attribute 'timeseries_dataset_from_array'\n",
    "import tensorflow.keras as keras\n",
    "from keras import preprocessing"
   ]
  },
  {
   "cell_type": "code",
   "execution_count": 89,
   "metadata": {
    "colab": {
     "base_uri": "https://localhost:8080/"
    },
    "id": "K92V7O4cPCiK",
    "outputId": "1b3467f8-9339-47d6-c9f2-47de3139b988"
   },
   "outputs": [
    {
     "name": "stdout",
     "output_type": "stream",
     "text": [
      "558/558 [==============================] - 44s 79ms/step - loss: 202.0628\n",
      "bt_mean: 14.214880 rmse\n",
      "558/558 [==============================] - 47s 85ms/step - loss: 173.5205\n",
      "temperature_mean: 13.172717 rmse\n",
      "558/558 [==============================] - 41s 73ms/step - loss: 166.3628\n",
      "bx_gsm_mean: 12.898169 rmse\n",
      "558/558 [==============================] - 40s 72ms/step - loss: 185.6137\n",
      "by_gsm_mean: 13.624012 rmse\n",
      "558/558 [==============================] - 45s 81ms/step - loss: 344.7210\n",
      "bz_gsm_mean: 18.566665 rmse\n",
      "558/558 [==============================] - 43s 77ms/step - loss: 225.6099\n",
      "speed_mean: 15.020317 rmse\n",
      "558/558 [==============================] - 43s 76ms/step - loss: 173.2258\n",
      "density_mean: 13.161527 rmse\n",
      "558/558 [==============================] - 43s 77ms/step - loss: 177.0549\n",
      "bt_std: 13.306198 rmse\n",
      "558/558 [==============================] - 45s 80ms/step - loss: 170.2879\n",
      "temperature_std: 13.049442 rmse\n",
      "558/558 [==============================] - 46s 83ms/step - loss: 170.5384\n",
      "bx_gsm_std: 13.059036 rmse\n",
      "558/558 [==============================] - 47s 84ms/step - loss: 181.6791\n",
      "by_gsm_std: 13.478840 rmse\n",
      "558/558 [==============================] - 46s 82ms/step - loss: 175.7837\n",
      "bz_gsm_std: 13.258346 rmse\n",
      "558/558 [==============================] - 45s 80ms/step - loss: 170.8107\n",
      "speed_std: 13.069458 rmse\n",
      "558/558 [==============================] - 43s 77ms/step - loss: 168.5148\n",
      "density_std: 12.981326 rmse\n",
      "558/558 [==============================] - 39s 70ms/step - loss: 192.8103\n",
      "smoothed_ssn: 13.885614 rmse\n"
     ]
    }
   ],
   "source": [
    "# A couple of ways to learn about the contents of a BatchDataset:\n",
    "#   print(list(train_ds.as_numpy_iterator()))\n",
    "#   type(test_ds)\n",
    "\n",
    "\n",
    "# We're going to edit this data so make a deep copy of our preprocessed training dataset.\n",
    "#test_for_permute = test.copy(deep=True)     \n",
    "\n",
    "rmse_permute_df = pd.DataFrame(np.zeros((1,len(XCOLS))), columns=XCOLS)\n",
    "n_times = len(test_for_permute)\n",
    "for fname in XCOLS:\n",
    "\n",
    "    # TODO: include this line here or the outside the for loop above.\n",
    "    test_for_permute = test.copy(deep=True) \n",
    "    \n",
    "    # TODO: do real split, for now approximate with reversing the data in this feature\n",
    "    test_for_permute[fname].values[:] = test_for_permute[fname].values[::-1]\n",
    "\n",
    "    # create TensorFlow BatchDataset\n",
    "    permute_ds = timeseries_dataset_from_df(test_for_permute, data_config[\"batch_size\"])\n",
    "\n",
    "    # evaluate model\n",
    "    rmse_permute_df[fname] = model.evaluate(permute_ds)**0.5\n",
    "\n",
    "    # undo data swap\n",
    "    test_for_permute[fname].values[:] = test_for_permute[fname].values[::-1]\n",
    "\n",
    "    print('%s: %f rmse' % (fname, rmse_permute_df[fname]))\n"
   ]
  },
  {
   "cell_type": "code",
   "execution_count": 90,
   "metadata": {
    "colab": {
     "base_uri": "https://localhost:8080/",
     "height": 537
    },
    "id": "DG43wGSwETt7",
    "outputId": "36dd3f42-3a95-4517-bf03-8ef04150633c"
   },
   "outputs": [
    {
     "name": "stdout",
     "output_type": "stream",
     "text": [
      "In order of most important feature first to least important by rmse(j)/rmse:\n"
     ]
    },
    {
     "data": {
      "text/html": [
       "<div>\n",
       "<style scoped>\n",
       "    .dataframe tbody tr th:only-of-type {\n",
       "        vertical-align: middle;\n",
       "    }\n",
       "\n",
       "    .dataframe tbody tr th {\n",
       "        vertical-align: top;\n",
       "    }\n",
       "\n",
       "    .dataframe thead th {\n",
       "        text-align: right;\n",
       "    }\n",
       "</style>\n",
       "<table border=\"1\" class=\"dataframe\">\n",
       "  <thead>\n",
       "    <tr style=\"text-align: right;\">\n",
       "      <th></th>\n",
       "      <th>0</th>\n",
       "    </tr>\n",
       "  </thead>\n",
       "  <tbody>\n",
       "    <tr>\n",
       "      <th>bz_gsm_mean</th>\n",
       "      <td>1.300061</td>\n",
       "    </tr>\n",
       "    <tr>\n",
       "      <th>speed_mean</th>\n",
       "      <td>1.051742</td>\n",
       "    </tr>\n",
       "    <tr>\n",
       "      <th>bt_mean</th>\n",
       "      <td>0.995344</td>\n",
       "    </tr>\n",
       "    <tr>\n",
       "      <th>smoothed_ssn</th>\n",
       "      <td>0.972288</td>\n",
       "    </tr>\n",
       "    <tr>\n",
       "      <th>by_gsm_mean</th>\n",
       "      <td>0.953970</td>\n",
       "    </tr>\n",
       "    <tr>\n",
       "      <th>by_gsm_std</th>\n",
       "      <td>0.943805</td>\n",
       "    </tr>\n",
       "    <tr>\n",
       "      <th>bt_std</th>\n",
       "      <td>0.931717</td>\n",
       "    </tr>\n",
       "    <tr>\n",
       "      <th>bz_gsm_std</th>\n",
       "      <td>0.928366</td>\n",
       "    </tr>\n",
       "    <tr>\n",
       "      <th>temperature_mean</th>\n",
       "      <td>0.922370</td>\n",
       "    </tr>\n",
       "    <tr>\n",
       "      <th>density_mean</th>\n",
       "      <td>0.921587</td>\n",
       "    </tr>\n",
       "    <tr>\n",
       "      <th>speed_std</th>\n",
       "      <td>0.915140</td>\n",
       "    </tr>\n",
       "    <tr>\n",
       "      <th>bx_gsm_std</th>\n",
       "      <td>0.914410</td>\n",
       "    </tr>\n",
       "    <tr>\n",
       "      <th>temperature_std</th>\n",
       "      <td>0.913738</td>\n",
       "    </tr>\n",
       "    <tr>\n",
       "      <th>density_std</th>\n",
       "      <td>0.908969</td>\n",
       "    </tr>\n",
       "    <tr>\n",
       "      <th>bx_gsm_mean</th>\n",
       "      <td>0.903146</td>\n",
       "    </tr>\n",
       "  </tbody>\n",
       "</table>\n",
       "</div>"
      ],
      "text/plain": [
       "                         0\n",
       "bz_gsm_mean       1.300061\n",
       "speed_mean        1.051742\n",
       "bt_mean           0.995344\n",
       "smoothed_ssn      0.972288\n",
       "by_gsm_mean       0.953970\n",
       "by_gsm_std        0.943805\n",
       "bt_std            0.931717\n",
       "bz_gsm_std        0.928366\n",
       "temperature_mean  0.922370\n",
       "density_mean      0.921587\n",
       "speed_std         0.915140\n",
       "bx_gsm_std        0.914410\n",
       "temperature_std   0.913738\n",
       "density_std       0.908969\n",
       "bx_gsm_mean       0.903146"
      ]
     },
     "execution_count": 90,
     "metadata": {},
     "output_type": "execute_result"
    }
   ],
   "source": [
    "# Ratio the Permuted RMSE to the overall RMSE and list in order of importance\n",
    "print('In order of most important feature first to least important by rmse(j)/rmse:')\n",
    "rmse_ratio_df = (rmse_permute_df/rmse).sort_values(ascending=False, by=0, axis=1)\n",
    "rmse_ratio_df.T\n"
   ]
  },
  {
   "cell_type": "code",
   "execution_count": 91,
   "metadata": {
    "colab": {
     "base_uri": "https://localhost:8080/"
    },
    "id": "Mxb08wQrHDZ8",
    "outputId": "2bf09fb7-88b5-409a-c8d2-53b51f3549f7"
   },
   "outputs": [
    {
     "data": {
      "text/plain": [
       "1.3000612287926694"
      ]
     },
     "execution_count": 91,
     "metadata": {},
     "output_type": "execute_result"
    }
   ],
   "source": [
    "rmse_ratio_df.iloc[0,0]"
   ]
  },
  {
   "cell_type": "code",
   "execution_count": 92,
   "metadata": {
    "colab": {
     "base_uri": "https://localhost:8080/",
     "height": 369
    },
    "id": "Onbsy_TDFHiQ",
    "outputId": "ab859cdd-0963-48d6-c92a-84a4a7e11b83"
   },
   "outputs": [
    {
     "data": {
      "image/png": "[encoded data removed]",
      "text/plain": [
       "<Figure size 720x360 with 1 Axes>"
      ]
     },
     "metadata": {
      "needs_background": "light"
     },
     "output_type": "display_data"
    }
   ],
   "source": [
    "# visualize the Permutation Importance outcome\n",
    "# TODO: replace colors with symbols and x-axis labels\n",
    "rmse_ratio_df.plot(kind='bar', figsize=(10, 5))\n",
    "plt.title('Permutation Feature Importance')\n",
    "plt.xlim(-0.25,)\n",
    "plt.ylim(0.95, rmse_ratio_df.iloc[0,0])\n",
    "plt.grid(True)\n",
    "plt.tight_layout()"
   ]
  },
  {
   "cell_type": "markdown",
   "metadata": {
    "id": "yLbZKYfgEjoT"
   },
   "source": [
    "### Review the feature Permutation Importances\n",
    "\n",
    "<i>\n",
    "How does the order of this list compare to your intuition from the Feature Correlation Heatmap we made earlier (aka heat map)?\n",
    "</i>"
   ]
  },
  {
   "cell_type": "markdown",
   "metadata": {
    "id": "dWs2MeMe0ZFm"
   },
   "source": [
    "## Student Exercise: SHapley Additive exPlanations (SHAP)\n",
    "\n",
    "Use the SHapley Additive exPlanations (SHAP) by Lundberg and Lee (2017) methodology to explore the contribution of each feature on the predicted output labels for a specific event.\n",
    "\n",
    "Resources you might like to explore:\n",
    "*   [Interpreting your deep learning model by SHAP](https://towardsdatascience.com/interpreting-your-deep-learning-model-by-shap-e69be2b47893)\n",
    "*   [Interpretable Machine Learning by Christop Molnar](https://christophm.github.io/interpretable-ml-book/shap.html)\n",
    "*   [Keras LSTM for IMDB Sentiment Classification](https://shap.readthedocs.io/en/latest/example_notebooks/text_examples/sentiment_analysis/Keras%20LSTM%20for%20IMDB%20Sentiment%20Classification.html?highlight=LSTM)"
   ]
  },
  {
   "cell_type": "markdown",
   "metadata": {
    "id": "acm3GxIUbeCL"
   },
   "source": [
    "## Note on SKT-Explain"
   ]
  },
  {
   "cell_type": "markdown",
   "metadata": {
    "id": "s_r6uovwbeCL"
   },
   "source": [
    "<div class=\"alert alert-block alert-warning\">\n",
    "\n",
    "While the current version of [skt-explain](https://github.com/monte-flora/scikit-explain) module isn't compatible with our tabular LSTM model (and sister CNN notebook), you might like to monitor this module's progress for your various needs--they have some really wonderful XAI tools and visualizations.\n",
    "\n",
    "</div>"
   ]
  },
  {
   "cell_type": "markdown",
   "metadata": {
    "id": "pA-g5jrAbeCL"
   },
   "source": [
    "# Event Case Studies"
   ]
  },
  {
   "cell_type": "markdown",
   "metadata": {
    "id": "ZqWamOEKbeCL"
   },
   "source": [
    "## Define Prediction Function"
   ]
  },
  {
   "cell_type": "code",
   "execution_count": 93,
   "metadata": {
    "id": "qHpsrh-WbeCL"
   },
   "outputs": [],
   "source": [
    "from typing import Tuple\n",
    "\n",
    "TIMESTEPS = data_config['timesteps']\n",
    "\n",
    "def predict_dst(\n",
    "    solar_wind_7d: pd.DataFrame,\n",
    "    satellite_positions_7d: pd.DataFrame,\n",
    "    latest_sunspot_number: float,\n",
    ") -> Tuple[float, float]:\n",
    "    \"\"\"\n",
    "    Take all of the data up until time t-1, and then make predictions for\n",
    "    times t and t+1.\n",
    "    Parameters\n",
    "    ----------\n",
    "    solar_wind_7d: pd.DataFrame\n",
    "        The last 7 days of satellite data up until (t - 1) minutes [exclusive of t]\n",
    "    satellite_positions_7d: pd.DataFrame\n",
    "        The last 7 days of satellite position data up until the present time [inclusive of t]\n",
    "    latest_sunspot_number: float\n",
    "        The latest monthly sunspot number (SSN) to be available\n",
    "    Returns\n",
    "    -------\n",
    "    predictions : Tuple[float, float]\n",
    "        A tuple of two predictions, for (t and t + 1 hour) respectively; these should\n",
    "        be between -2,000 and 500.\n",
    "    \"\"\"\n",
    "    # Re-format data to fit into our pipeline\n",
    "    sunspots = pd.DataFrame(index=solar_wind_7d.index, columns=[\"smoothed_ssn\"])\n",
    "    sunspots[\"smoothed_ssn\"].values[:] = latest_sunspot_number\n",
    "    \n",
    "    # Process our features and grab last 32 (timesteps) hours\n",
    "    features, s = preprocess_features(\n",
    "        solar_wind_7d, sunspots, scaler=scaler, subset=SOLAR_WIND_FEATURES\n",
    "    )\n",
    "    model_input = features[-TIMESTEPS:][XCOLS].values.reshape(\n",
    "        (1, TIMESTEPS, features.shape[1])\n",
    "    )\n",
    "    #pprint.pprint(features)\n",
    "    \n",
    "    # Make a prediction\n",
    "    prediction_at_t0, prediction_at_t1 = model.predict(model_input)[0]\n",
    "\n",
    "    # Optional check for unexpected values\n",
    "    if not np.isfinite(prediction_at_t0):\n",
    "        prediction_at_t0 = -12\n",
    "    if not np.isfinite(prediction_at_t1):\n",
    "        prediction_at_t1 = -12\n",
    "\n",
    "    return prediction_at_t0, prediction_at_t1"
   ]
  },
  {
   "cell_type": "markdown",
   "metadata": {
    "id": "02qv90XObeCM"
   },
   "source": [
    "## Ingest Real Event Data from Competition's \"Private\" Data"
   ]
  },
  {
   "cell_type": "code",
   "execution_count": 94,
   "metadata": {
    "colab": {
     "base_uri": "https://localhost:8080/"
    },
    "id": "Z0LXe_NxbeCM",
    "outputId": "25169f45-b6a1-4465-a187-494cd01f63d9"
   },
   "outputs": [
    {
     "name": "stdout",
     "output_type": "stream",
     "text": [
      "Importing data from: data/private\n"
     ]
    }
   ],
   "source": [
    "# Real Event Data from PRIVATE\n",
    "DATA_PATH = Path(\"data/private/\")\n",
    "print('Importing data from: %s' % DATA_PATH)\n",
    "\n",
    "dst = pd.read_csv(DATA_PATH / \"dst_labels.csv\")\n",
    "dst.timedelta = pd.to_timedelta(dst.timedelta)\n",
    "dst.set_index([\"period\", \"timedelta\"], inplace=True)\n",
    "\n",
    "sunspots = pd.read_csv(DATA_PATH / \"sunspots.csv\")\n",
    "sunspots.timedelta = pd.to_timedelta(sunspots.timedelta)\n",
    "sunspots.set_index([\"period\", \"timedelta\"], inplace=True)\n",
    "\n",
    "solar_wind = pd.read_csv(DATA_PATH / \"solar_wind.csv\")\n",
    "solar_wind.timedelta = pd.to_timedelta(solar_wind.timedelta)\n",
    "solar_wind.set_index([\"period\", \"timedelta\"], inplace=True)\n",
    "\n",
    "satellite_positions = pd.read_csv(DATA_PATH / \"satellite_positions.csv\")\n",
    "satellite_positions.timedelta = pd.to_timedelta(satellite_positions.timedelta)\n",
    "satellite_positions.set_index([\"period\", \"timedelta\"], inplace=True)"
   ]
  },
  {
   "cell_type": "markdown",
   "metadata": {
    "id": "w0lreT8xbeCM"
   },
   "source": [
    "## Event: Geomagnetic storm with Dst minimum of approx. -180 nT\n",
    "\n",
    "<i>\n",
    "How does our LSTM model output for this event look compared to our observed Dst?\n",
    "How does our LSTM model performance compare to the CNN notebook for this event?\n",
    "</i>"
   ]
  },
  {
   "cell_type": "markdown",
   "metadata": {
    "id": "LnTFIrxrInAf"
   },
   "source": [
    "<i><b>Note: there are known bugs in this section that are being actively worked on.</b></i>"
   ]
  },
  {
   "cell_type": "code",
   "execution_count": 95,
   "metadata": {
    "colab": {
     "base_uri": "https://localhost:8080/"
    },
    "id": "wR54LwzwbeCM",
    "outputId": "d708acb8-f8d8-4f94-8539-2694e6aaa828"
   },
   "outputs": [
    {
     "name": "stdout",
     "output_type": "stream",
     "text": [
      "Hour -168: SSN 180.3, Bz -0.0 nT, V 398 km/s, Dst [t0,t1] = [11.9, 11.2] nT\n",
      "Hour -167: SSN 180.3, Bz 0.0 nT, V 396 km/s, Dst [t0,t1] = [12.5, 11.9] nT\n",
      "Hour -166: SSN 180.3, Bz 0.1 nT, V 395 km/s, Dst [t0,t1] = [13.8, 13.2] nT\n",
      "Hour -165: SSN 180.3, Bz 0.1 nT, V 394 km/s, Dst [t0,t1] = [14.9, 14.2] nT\n",
      "Hour -164: SSN 180.3, Bz 0.1 nT, V 392 km/s, Dst [t0,t1] = [13.8, 13.7] nT\n",
      "Hour -163: SSN 180.3, Bz 0.2 nT, V 391 km/s, Dst [t0,t1] = [20.5, 18.8] nT\n",
      "Hour -162: SSN 180.3, Bz 0.2 nT, V 389 km/s, Dst [t0,t1] = [17.0, 16.7] nT\n",
      "Hour -161: SSN 180.3, Bz 0.2 nT, V 388 km/s, Dst [t0,t1] = [16.9, 16.8] nT\n",
      "Hour -160: SSN 180.3, Bz 0.2 nT, V 386 km/s, Dst [t0,t1] = [15.1, 15.0] nT\n",
      "Hour -159: SSN 180.3, Bz 0.2 nT, V 385 km/s, Dst [t0,t1] = [12.1, 12.1] nT\n",
      "Hour -158: SSN 180.3, Bz 0.2 nT, V 383 km/s, Dst [t0,t1] = [10.2, 9.3] nT\n",
      "Hour -157: SSN 180.3, Bz 0.2 nT, V 382 km/s, Dst [t0,t1] = [6.5, 5.3] nT\n",
      "Hour -156: SSN 180.3, Bz 0.2 nT, V 381 km/s, Dst [t0,t1] = [-0.3, -2.1] nT\n",
      "Hour -155: SSN 180.3, Bz 0.1 nT, V 380 km/s, Dst [t0,t1] = [-6.3, -7.9] nT\n",
      "Hour -154: SSN 180.3, Bz 0.1 nT, V 379 km/s, Dst [t0,t1] = [-10.5, -11.5] nT\n",
      "Hour -153: SSN 180.3, Bz 0.0 nT, V 378 km/s, Dst [t0,t1] = [-17.4, -18.2] nT\n",
      "Hour -152: SSN 180.3, Bz -0.0 nT, V 378 km/s, Dst [t0,t1] = [-18.2, -18.2] nT\n",
      "Hour -151: SSN 180.3, Bz -0.1 nT, V 377 km/s, Dst [t0,t1] = [-20.3, -19.9] nT\n",
      "Hour -150: SSN 180.3, Bz -0.1 nT, V 376 km/s, Dst [t0,t1] = [-21.3, -20.6] nT\n",
      "Hour -149: SSN 180.3, Bz -0.2 nT, V 375 km/s, Dst [t0,t1] = [-22.9, -22.3] nT\n",
      "Hour -148: SSN 180.3, Bz -0.2 nT, V 375 km/s, Dst [t0,t1] = [-23.1, -22.5] nT\n",
      "Hour -147: SSN 180.3, Bz -0.3 nT, V 374 km/s, Dst [t0,t1] = [-19.6, -18.7] nT\n",
      "Hour -146: SSN 180.3, Bz -0.3 nT, V 373 km/s, Dst [t0,t1] = [-20.1, -19.4] nT\n",
      "Hour -145: SSN 180.3, Bz -0.3 nT, V 373 km/s, Dst [t0,t1] = [-20.5, -19.7] nT\n",
      "Hour -144: SSN 180.3, Bz -0.3 nT, V 372 km/s, Dst [t0,t1] = [-15.7, -15.7] nT\n",
      "Hour -143: SSN 180.3, Bz -0.3 nT, V 371 km/s, Dst [t0,t1] = [-11.4, -11.4] nT\n",
      "Hour -142: SSN 180.3, Bz -0.2 nT, V 371 km/s, Dst [t0,t1] = [-5.8, -6.3] nT\n",
      "Hour -141: SSN 180.3, Bz -0.2 nT, V 370 km/s, Dst [t0,t1] = [-8.4, -9.2] nT\n",
      "Hour -140: SSN 180.3, Bz -0.3 nT, V 370 km/s, Dst [t0,t1] = [-15.3, -16.4] nT\n",
      "Hour -139: SSN 180.3, Bz -0.3 nT, V 369 km/s, Dst [t0,t1] = [-19.1, -19.3] nT\n",
      "Hour -138: SSN 180.3, Bz -0.3 nT, V 369 km/s, Dst [t0,t1] = [-18.0, -18.0] nT\n",
      "Hour -137: SSN 180.3, Bz -0.3 nT, V 369 km/s, Dst [t0,t1] = [-13.5, -13.9] nT\n",
      "Hour -136: SSN 180.3, Bz -0.3 nT, V 368 km/s, Dst [t0,t1] = [-14.7, -14.9] nT\n",
      "Hour -135: SSN 180.3, Bz -0.4 nT, V 368 km/s, Dst [t0,t1] = [-17.0, -17.3] nT\n",
      "Hour -134: SSN 180.3, Bz -0.4 nT, V 367 km/s, Dst [t0,t1] = [-18.7, -18.8] nT\n",
      "Hour -133: SSN 180.3, Bz -0.4 nT, V 367 km/s, Dst [t0,t1] = [-14.8, -15.3] nT\n",
      "Hour -132: SSN 180.3, Bz -0.4 nT, V 367 km/s, Dst [t0,t1] = [-20.6, -20.3] nT\n",
      "Hour -131: SSN 180.3, Bz -0.5 nT, V 366 km/s, Dst [t0,t1] = [-24.0, -23.0] nT\n",
      "Hour -130: SSN 180.3, Bz -0.5 nT, V 366 km/s, Dst [t0,t1] = [-25.0, -24.0] nT\n",
      "Hour -129: SSN 180.3, Bz -0.5 nT, V 366 km/s, Dst [t0,t1] = [-25.7, -24.5] nT\n",
      "Hour -128: SSN 180.3, Bz -0.6 nT, V 366 km/s, Dst [t0,t1] = [-24.4, -23.3] nT\n",
      "Hour -127: SSN 180.3, Bz -0.6 nT, V 366 km/s, Dst [t0,t1] = [-25.0, -23.9] nT\n",
      "Hour -126: SSN 180.3, Bz -0.6 nT, V 366 km/s, Dst [t0,t1] = [-27.3, -26.4] nT\n",
      "Hour -125: SSN 180.3, Bz -0.6 nT, V 366 km/s, Dst [t0,t1] = [-25.5, -24.3] nT\n",
      "Hour -124: SSN 180.3, Bz -0.7 nT, V 366 km/s, Dst [t0,t1] = [-22.9, -21.9] nT\n",
      "Hour -123: SSN 180.3, Bz -0.7 nT, V 365 km/s, Dst [t0,t1] = [-23.7, -22.4] nT\n",
      "Hour -122: SSN 180.3, Bz -0.8 nT, V 365 km/s, Dst [t0,t1] = [-24.7, -23.7] nT\n",
      "Hour -121: SSN 180.3, Bz -0.8 nT, V 365 km/s, Dst [t0,t1] = [-24.2, -22.8] nT\n",
      "Hour -120: SSN 180.3, Bz -0.8 nT, V 364 km/s, Dst [t0,t1] = [-22.6, -21.1] nT\n",
      "Hour -119: SSN 180.3, Bz -0.9 nT, V 364 km/s, Dst [t0,t1] = [-21.7, -20.5] nT\n",
      "Hour -118: SSN 180.3, Bz -0.9 nT, V 363 km/s, Dst [t0,t1] = [-21.0, -19.7] nT\n",
      "Hour -117: SSN 180.3, Bz -0.9 nT, V 363 km/s, Dst [t0,t1] = [-13.9, -13.5] nT\n",
      "Hour -116: SSN 180.3, Bz -0.9 nT, V 362 km/s, Dst [t0,t1] = [-18.7, -17.5] nT\n",
      "Hour -115: SSN 180.3, Bz -1.0 nT, V 362 km/s, Dst [t0,t1] = [-21.3, -20.0] nT\n",
      "Hour -114: SSN 180.3, Bz -1.0 nT, V 361 km/s, Dst [t0,t1] = [-20.5, -19.4] nT\n",
      "Hour -113: SSN 180.3, Bz -1.0 nT, V 360 km/s, Dst [t0,t1] = [-21.4, -20.1] nT\n",
      "Hour -112: SSN 180.3, Bz -1.0 nT, V 360 km/s, Dst [t0,t1] = [-19.2, -18.5] nT\n",
      "Hour -111: SSN 180.3, Bz -1.1 nT, V 359 km/s, Dst [t0,t1] = [-17.6, -17.0] nT\n",
      "Hour -110: SSN 180.3, Bz -1.1 nT, V 359 km/s, Dst [t0,t1] = [-22.0, -20.8] nT\n",
      "Hour -109: SSN 180.3, Bz -1.1 nT, V 358 km/s, Dst [t0,t1] = [-20.4, -19.3] nT\n",
      "Hour -108: SSN 180.3, Bz -1.2 nT, V 357 km/s, Dst [t0,t1] = [-16.4, -15.5] nT\n",
      "Hour -107: SSN 180.3, Bz -1.2 nT, V 357 km/s, Dst [t0,t1] = [-17.5, -16.9] nT\n",
      "Hour -106: SSN 180.3, Bz -1.2 nT, V 357 km/s, Dst [t0,t1] = [-17.6, -17.3] nT\n",
      "Hour -105: SSN 180.3, Bz -1.2 nT, V 357 km/s, Dst [t0,t1] = [-16.5, -16.6] nT\n",
      "Hour -104: SSN 180.3, Bz -1.2 nT, V 357 km/s, Dst [t0,t1] = [-17.3, -17.0] nT\n",
      "Hour -103: SSN 180.3, Bz -1.3 nT, V 358 km/s, Dst [t0,t1] = [-45.5, -55.0] nT\n",
      "Hour -102: SSN 180.3, Bz -1.4 nT, V 359 km/s, Dst [t0,t1] = [-95.4, -104.2] nT\n",
      "Hour -101: SSN 180.3, Bz -1.5 nT, V 361 km/s, Dst [t0,t1] = [-131.8, -136.0] nT\n",
      "Hour -100: SSN 180.3, Bz -1.5 nT, V 362 km/s, Dst [t0,t1] = [-111.3, -112.4] nT\n",
      "Hour  -99: SSN 180.3, Bz -1.5 nT, V 363 km/s, Dst [t0,t1] = [-117.8, -121.2] nT\n",
      "Hour  -98: SSN 180.3, Bz -1.6 nT, V 363 km/s, Dst [t0,t1] = [-131.1, -133.7] nT\n",
      "Hour  -97: SSN 180.3, Bz -1.7 nT, V 365 km/s, Dst [t0,t1] = [-166.8, -171.0] nT\n",
      "Hour  -96: SSN 180.3, Bz -1.7 nT, V 366 km/s, Dst [t0,t1] = [-169.5, -170.9] nT\n",
      "Hour  -95: SSN 180.3, Bz -1.7 nT, V 367 km/s, Dst [t0,t1] = [-158.9, -160.7] nT\n",
      "Hour  -94: SSN 180.3, Bz -1.6 nT, V 369 km/s, Dst [t0,t1] = [-159.8, -157.3] nT\n",
      "Hour  -93: SSN 180.3, Bz -1.6 nT, V 370 km/s, Dst [t0,t1] = [-147.0, -141.4] nT\n",
      "Hour  -92: SSN 180.3, Bz -1.6 nT, V 372 km/s, Dst [t0,t1] = [-138.8, -131.6] nT\n",
      "Hour  -91: SSN 180.3, Bz -1.6 nT, V 373 km/s, Dst [t0,t1] = [-107.7, -101.8] nT\n",
      "Hour  -90: SSN 180.3, Bz -1.6 nT, V 374 km/s, Dst [t0,t1] = [-96.1, -90.4] nT\n",
      "Hour  -89: SSN 180.3, Bz -1.6 nT, V 375 km/s, Dst [t0,t1] = [-92.8, -88.3] nT\n",
      "Hour  -88: SSN 180.3, Bz -1.6 nT, V 376 km/s, Dst [t0,t1] = [-90.5, -86.6] nT\n",
      "Hour  -87: SSN 180.3, Bz -1.6 nT, V 377 km/s, Dst [t0,t1] = [-79.5, -76.8] nT\n",
      "Hour  -86: SSN 180.3, Bz -1.7 nT, V 378 km/s, Dst [t0,t1] = [-73.4, -73.4] nT\n",
      "Hour  -85: SSN 180.3, Bz -1.7 nT, V 378 km/s, Dst [t0,t1] = [-78.7, -75.9] nT\n",
      "Hour  -84: SSN 180.3, Bz -1.8 nT, V 379 km/s, Dst [t0,t1] = [-78.8, -76.7] nT\n",
      "Hour  -83: SSN 180.3, Bz -1.9 nT, V 380 km/s, Dst [t0,t1] = [-78.0, -76.0] nT\n",
      "Hour  -82: SSN 180.3, Bz -2.0 nT, V 381 km/s, Dst [t0,t1] = [-75.8, -73.5] nT\n",
      "Hour  -81: SSN 180.3, Bz -2.0 nT, V 381 km/s, Dst [t0,t1] = [-72.2, -70.2] nT\n",
      "Hour  -80: SSN 180.3, Bz -2.1 nT, V 382 km/s, Dst [t0,t1] = [-72.2, -70.0] nT\n",
      "Hour  -79: SSN 180.3, Bz -2.1 nT, V 383 km/s, Dst [t0,t1] = [-70.6, -68.8] nT\n",
      "Hour  -78: SSN 180.3, Bz -2.2 nT, V 383 km/s, Dst [t0,t1] = [-67.0, -65.5] nT\n",
      "Hour  -77: SSN 180.3, Bz -2.3 nT, V 384 km/s, Dst [t0,t1] = [-64.6, -63.5] nT\n",
      "Hour  -76: SSN 180.3, Bz -2.3 nT, V 385 km/s, Dst [t0,t1] = [-56.7, -55.9] nT\n",
      "Hour  -75: SSN 180.3, Bz -2.3 nT, V 385 km/s, Dst [t0,t1] = [-55.9, -55.8] nT\n",
      "Hour  -74: SSN 180.3, Bz -2.3 nT, V 386 km/s, Dst [t0,t1] = [-52.3, -51.4] nT\n",
      "Hour  -73: SSN 180.3, Bz -2.4 nT, V 387 km/s, Dst [t0,t1] = [-60.9, -60.1] nT\n",
      "Hour  -72: SSN 180.3, Bz -2.4 nT, V 388 km/s, Dst [t0,t1] = [-67.7, -65.3] nT\n",
      "Hour  -71: SSN 180.3, Bz -2.4 nT, V 389 km/s, Dst [t0,t1] = [-53.0, -51.8] nT\n",
      "Hour  -70: SSN 180.3, Bz -2.4 nT, V 389 km/s, Dst [t0,t1] = [-49.0, -47.9] nT\n",
      "Hour  -69: SSN 180.3, Bz -2.4 nT, V 390 km/s, Dst [t0,t1] = [-54.3, -53.0] nT\n",
      "Hour  -68: SSN 180.3, Bz -2.4 nT, V 391 km/s, Dst [t0,t1] = [-42.0, -41.2] nT\n",
      "Hour  -67: SSN 180.3, Bz -2.4 nT, V 391 km/s, Dst [t0,t1] = [-44.5, -44.4] nT\n",
      "Hour  -66: SSN 180.3, Bz -2.4 nT, V 392 km/s, Dst [t0,t1] = [-38.0, -37.9] nT\n",
      "Hour  -65: SSN 180.3, Bz -2.3 nT, V 393 km/s, Dst [t0,t1] = [-44.8, -44.6] nT\n",
      "Hour  -64: SSN 180.3, Bz -2.3 nT, V 394 km/s, Dst [t0,t1] = [-31.2, -31.0] nT\n",
      "Hour  -63: SSN 180.3, Bz -2.3 nT, V 395 km/s, Dst [t0,t1] = [-37.1, -36.5] nT\n"
     ]
    },
    {
     "name": "stdout",
     "output_type": "stream",
     "text": [
      "Hour  -62: SSN 180.3, Bz -2.2 nT, V 395 km/s, Dst [t0,t1] = [-31.2, -30.9] nT\n",
      "Hour  -61: SSN 180.3, Bz -2.2 nT, V 396 km/s, Dst [t0,t1] = [-28.0, -27.9] nT\n",
      "Hour  -60: SSN 180.3, Bz -2.2 nT, V 397 km/s, Dst [t0,t1] = [-21.5, -21.3] nT\n",
      "Hour  -59: SSN 180.3, Bz -2.2 nT, V 397 km/s, Dst [t0,t1] = [-30.9, -30.8] nT\n",
      "Hour  -58: SSN 180.3, Bz -2.2 nT, V 398 km/s, Dst [t0,t1] = [-31.0, -30.5] nT\n",
      "Hour  -57: SSN 180.3, Bz -2.2 nT, V 399 km/s, Dst [t0,t1] = [-30.2, -29.8] nT\n",
      "Hour  -56: SSN 180.3, Bz -2.2 nT, V 399 km/s, Dst [t0,t1] = [-24.1, -23.6] nT\n",
      "Hour  -55: SSN 180.3, Bz -2.1 nT, V 400 km/s, Dst [t0,t1] = [-21.3, -20.6] nT\n",
      "Hour  -54: SSN 180.3, Bz -2.1 nT, V 400 km/s, Dst [t0,t1] = [-21.0, -20.5] nT\n",
      "Hour  -53: SSN 180.3, Bz -2.1 nT, V 401 km/s, Dst [t0,t1] = [-24.6, -23.9] nT\n",
      "Hour  -52: SSN 180.3, Bz -2.1 nT, V 401 km/s, Dst [t0,t1] = [-21.9, -21.6] nT\n",
      "Hour  -51: SSN 180.3, Bz -2.1 nT, V 402 km/s, Dst [t0,t1] = [-28.9, -28.7] nT\n",
      "Hour  -50: SSN 180.3, Bz -2.0 nT, V 402 km/s, Dst [t0,t1] = [-25.9, -26.3] nT\n",
      "Hour  -49: SSN 180.3, Bz -2.0 nT, V 402 km/s, Dst [t0,t1] = [-29.1, -29.1] nT\n",
      "Hour  -48: SSN 180.3, Bz -2.0 nT, V 403 km/s, Dst [t0,t1] = [-22.4, -22.0] nT\n",
      "Hour  -47: SSN 180.3, Bz -2.0 nT, V 403 km/s, Dst [t0,t1] = [-23.7, -23.5] nT\n",
      "Hour  -46: SSN 180.3, Bz -2.0 nT, V 403 km/s, Dst [t0,t1] = [-9.0, -8.6] nT\n",
      "Hour  -45: SSN 180.3, Bz -2.0 nT, V 403 km/s, Dst [t0,t1] = [-10.7, -10.4] nT\n",
      "Hour  -44: SSN 180.3, Bz -2.0 nT, V 403 km/s, Dst [t0,t1] = [-8.7, -8.2] nT\n",
      "Hour  -43: SSN 180.3, Bz -1.9 nT, V 404 km/s, Dst [t0,t1] = [-12.4, -11.8] nT\n",
      "Hour  -42: SSN 180.3, Bz -1.9 nT, V 404 km/s, Dst [t0,t1] = [-8.5, -8.2] nT\n",
      "Hour  -41: SSN 180.3, Bz -1.9 nT, V 405 km/s, Dst [t0,t1] = [-9.1, -8.8] nT\n",
      "Hour  -40: SSN 180.3, Bz -1.9 nT, V 405 km/s, Dst [t0,t1] = [-6.9, -7.0] nT\n",
      "Hour  -39: SSN 180.3, Bz -1.9 nT, V 406 km/s, Dst [t0,t1] = [-5.0, -4.9] nT\n",
      "Hour  -38: SSN 180.3, Bz -1.9 nT, V 406 km/s, Dst [t0,t1] = [-8.7, -8.4] nT\n",
      "Hour  -37: SSN 180.3, Bz -1.9 nT, V 406 km/s, Dst [t0,t1] = [-7.2, -6.9] nT\n",
      "Hour  -36: SSN 180.3, Bz -1.9 nT, V 407 km/s, Dst [t0,t1] = [-6.0, -6.2] nT\n",
      "Hour  -35: SSN 180.3, Bz -1.9 nT, V 407 km/s, Dst [t0,t1] = [-5.7, -5.4] nT\n",
      "Hour  -34: SSN 180.3, Bz -1.9 nT, V 408 km/s, Dst [t0,t1] = [-7.0, -7.0] nT\n",
      "Hour  -33: SSN 180.3, Bz -1.9 nT, V 408 km/s, Dst [t0,t1] = [-8.3, -8.1] nT\n",
      "Hour  -32: SSN 180.3, Bz -1.9 nT, V 409 km/s, Dst [t0,t1] = [-10.8, -10.5] nT\n",
      "Hour  -31: SSN 180.3, Bz -1.8 nT, V 409 km/s, Dst [t0,t1] = [-7.3, -7.4] nT\n",
      "Hour  -30: SSN 180.3, Bz -1.8 nT, V 410 km/s, Dst [t0,t1] = [-4.1, -4.0] nT\n",
      "Hour  -29: SSN 180.3, Bz -1.8 nT, V 410 km/s, Dst [t0,t1] = [-4.7, -4.6] nT\n",
      "Hour  -28: SSN 180.3, Bz -1.8 nT, V 411 km/s, Dst [t0,t1] = [0.2, 0.1] nT\n",
      "Hour  -27: SSN 180.3, Bz -1.8 nT, V 411 km/s, Dst [t0,t1] = [-2.2, -2.5] nT\n",
      "Hour  -26: SSN 180.3, Bz -1.8 nT, V 411 km/s, Dst [t0,t1] = [-0.7, -1.1] nT\n",
      "Hour  -25: SSN 180.3, Bz -1.8 nT, V 412 km/s, Dst [t0,t1] = [-1.2, -1.5] nT\n",
      "Hour  -24: SSN 180.3, Bz -1.8 nT, V 412 km/s, Dst [t0,t1] = [0.4, -0.1] nT\n",
      "Hour  -23: SSN 180.3, Bz -1.8 nT, V 413 km/s, Dst [t0,t1] = [-0.2, -0.6] nT\n",
      "Hour  -22: SSN 180.3, Bz -1.8 nT, V 413 km/s, Dst [t0,t1] = [-1.0, -1.5] nT\n",
      "Hour  -21: SSN 180.3, Bz -1.8 nT, V 413 km/s, Dst [t0,t1] = [-0.1, 0.0] nT\n",
      "Hour  -20: SSN 180.3, Bz -1.8 nT, V 414 km/s, Dst [t0,t1] = [-0.4, -0.6] nT\n",
      "Hour  -19: SSN 180.3, Bz -1.8 nT, V 414 km/s, Dst [t0,t1] = [-0.5, -0.4] nT\n",
      "Hour  -18: SSN 180.3, Bz -1.8 nT, V 415 km/s, Dst [t0,t1] = [1.5, 1.4] nT\n",
      "Hour  -17: SSN 180.3, Bz -1.8 nT, V 415 km/s, Dst [t0,t1] = [3.3, 3.3] nT\n",
      "Hour  -16: SSN 180.3, Bz -1.8 nT, V 415 km/s, Dst [t0,t1] = [5.9, 5.8] nT\n",
      "Hour  -15: SSN 180.3, Bz -1.8 nT, V 416 km/s, Dst [t0,t1] = [13.5, 12.6] nT\n",
      "Hour  -14: SSN 180.3, Bz -1.8 nT, V 416 km/s, Dst [t0,t1] = [16.1, 14.9] nT\n",
      "Hour  -13: SSN 180.3, Bz -1.7 nT, V 417 km/s, Dst [t0,t1] = [18.8, 17.1] nT\n",
      "Hour  -12: SSN 180.3, Bz -1.7 nT, V 418 km/s, Dst [t0,t1] = [15.5, 14.5] nT\n",
      "Hour  -11: SSN 180.3, Bz -1.6 nT, V 419 km/s, Dst [t0,t1] = [15.1, 13.5] nT\n",
      "Hour  -10: SSN 180.3, Bz -1.6 nT, V 420 km/s, Dst [t0,t1] = [14.9, 13.4] nT\n",
      "Hour   -9: SSN 180.3, Bz -1.6 nT, V 420 km/s, Dst [t0,t1] = [16.7, 15.7] nT\n",
      "Hour   -8: SSN 180.3, Bz -1.6 nT, V 421 km/s, Dst [t0,t1] = [16.9, 15.5] nT\n",
      "Hour   -7: SSN 180.3, Bz -1.6 nT, V 422 km/s, Dst [t0,t1] = [14.2, 13.0] nT\n",
      "Hour   -6: SSN 180.3, Bz -1.6 nT, V 423 km/s, Dst [t0,t1] = [13.4, 12.0] nT\n",
      "Hour   -5: SSN 180.3, Bz -1.6 nT, V 423 km/s, Dst [t0,t1] = [11.8, 10.3] nT\n",
      "Hour   -4: SSN 180.3, Bz -1.6 nT, V 424 km/s, Dst [t0,t1] = [11.3, 10.3] nT\n",
      "Hour   -3: SSN 180.3, Bz -1.6 nT, V 425 km/s, Dst [t0,t1] = [12.5, 12.0] nT\n",
      "Hour   -2: SSN 180.3, Bz -1.6 nT, V 425 km/s, Dst [t0,t1] = [14.4, 13.2] nT\n",
      "Hour   -1: SSN 180.3, Bz -1.6 nT, V 426 km/s, Dst [t0,t1] = [13.4, 13.4] nT\n",
      "\n",
      "Summarizing final block of input data (head and tail):\n",
      "period  timedelta        \n",
      "test_a  139 days 22:59:00    5.90\n",
      "        139 days 23:00:00    5.89\n",
      "        139 days 23:01:00    5.80\n",
      "        139 days 23:02:00    5.79\n",
      "        139 days 23:03:00    5.84\n",
      "Name: bz_gsm, dtype: float64\n",
      "period  timedelta        \n",
      "test_a  146 days 22:53:00    6.31\n",
      "        146 days 22:54:00    5.51\n",
      "        146 days 22:55:00    6.02\n",
      "        146 days 22:56:00    6.07\n",
      "        146 days 22:57:00    5.99\n",
      "Name: bz_gsm, dtype: float64\n",
      "period  timedelta\n",
      "test_a  139 days     1409149.2\n",
      "        140 days     1408934.6\n",
      "        141 days     1408601.2\n",
      "        142 days     1408153.1\n",
      "        143 days     1407648.4\n",
      "Name: gse_x_ace, dtype: float64\n",
      "period  timedelta\n",
      "test_a  140 days     1408934.6\n",
      "        141 days     1408601.2\n",
      "        142 days     1408153.1\n",
      "        143 days     1407648.4\n",
      "        144 days     1407114.4\n",
      "Name: gse_x_ace, dtype: float64\n",
      "smoothed_ssn    180.3\n",
      "Name: (test_a, 153 days 00:00:00), dtype: float64\n"
     ]
    }
   ],
   "source": [
    "#####\n",
    "# There are bugs in the section that are actively being worked out.\n",
    "#####\n",
    "\n",
    "event_start_day = 140\n",
    "idx_event_1day = range(event_start_day,       event_start_day       + 7      )\n",
    "idx_event_1hr  = range(event_start_day*24,    event_start_day*24    + 7*24   )\n",
    "idx_event_1min = range(event_start_day*24*60, event_start_day*24*60 + 7*24*60)\n",
    "\n",
    "dst_predicted_t0 = np.nan * np.zeros(len(idx_event_1hr))\n",
    "dst_predicted_t1 = np.nan * np.zeros(len(idx_event_1hr))\n",
    "i_dst = 0\n",
    "###idx_1min = range((event_start_day-7)*24*60, event_start_day*24*60)\n",
    "for i_offset_hour in range(-7*24, 0):\n",
    "    \n",
    "    # for the \n",
    "    idx_7day_1min = range(idx_event_1min[0]+i_offset_hour*60 - 1,  idx_event_1min[-1]+i_offset_hour*60 - 1)\n",
    "    \n",
    "    idx_7day_1day = range(idx_event_1day[0]+i_offset_hour//24, idx_event_1day[-1]+i_offset_hour//24)\n",
    "    \n",
    "    # Subset to 7 days around event\n",
    "    solar_wind_7d_by_min          = solar_wind.iloc[idx_7day_1min]\n",
    "    satellite_positions_7d_by_day = satellite_positions.iloc[idx_7day_1day]\n",
    "    # FIXME: This sunspot number is correct for day 140. Use DF.join to generalize lining up the correct value.\n",
    "    ###latest_sunspot_number = solar_wind_7d_by_min.join(sunspots).smoothed_ssn.mean()\n",
    "    latest_sunspot_number = sunspots.iloc[5] \n",
    "\n",
    "\n",
    "    # Predict Dst\n",
    "    dst_t0_t1 = predict_dst(solar_wind_7d=solar_wind_7d_by_min, satellite_positions_7d=satellite_positions_7d_by_day, latest_sunspot_number=latest_sunspot_number)\n",
    "\n",
    "    dst_predicted_t0[i_dst] = dst_t0_t1[0]\n",
    "    dst_predicted_t1[i_dst] = dst_t0_t1[1]\n",
    "\n",
    "    i_dst += 1\n",
    "    \n",
    "    #print(solar_wind_7d_by_min)\n",
    "    #print(satellite_positions_7d_by_day)\n",
    "    print('Hour %4d: SSN %.1f, Bz %.1f nT, V %.0f km/s, Dst [t0,t1] = [%.1f, %.1f] nT' \n",
    "        % (i_offset_hour, latest_sunspot_number, solar_wind_7d_by_min['bz_gsm'].mean(), \n",
    "        solar_wind_7d_by_min['speed'].mean(), dst_t0_t1[0], dst_t0_t1[1]))\n",
    "\n",
    "\n",
    "# Summarize final block of Input data\n",
    "print('\\nSummarizing final block of input data (head and tail):')\n",
    "pprint.pprint(solar_wind_7d_by_min['bz_gsm'].head())\n",
    "pprint.pprint(solar_wind_7d_by_min['bz_gsm'].tail())\n",
    "pprint.pprint(satellite_positions_7d_by_day['gse_x_ace'].head())\n",
    "pprint.pprint(satellite_positions_7d_by_day['gse_x_ace'].tail())\n",
    "pprint.pprint(latest_sunspot_number)"
   ]
  },
  {
   "cell_type": "code",
   "execution_count": 96,
   "metadata": {
    "colab": {
     "base_uri": "https://localhost:8080/"
    },
    "id": "7N7RgNYVbeCN",
    "outputId": "abdccca2-0868-40c6-9367-28e283cedcac"
   },
   "outputs": [
    {
     "name": "stdout",
     "output_type": "stream",
     "text": [
      "RMSE to t0 precition: 42.824929 nT\n",
      "RMSE to t1 precition: 43.351647 nT\n"
     ]
    }
   ],
   "source": [
    "# RMSE for this event:\n",
    "rmse_t0 = np.mean((dst['dst'][idx_event_1hr] - dst_predicted_t0)**2)**0.5\n",
    "rmse_t1 = np.mean((dst['dst'][idx_event_1hr] - dst_predicted_t1)**2)**0.5\n",
    "print('RMSE to t0 precition: %f nT' % rmse_t0 )\n",
    "print('RMSE to t1 precition: %f nT' % rmse_t1 )"
   ]
  },
  {
   "cell_type": "code",
   "execution_count": 97,
   "metadata": {
    "colab": {
     "base_uri": "https://localhost:8080/",
     "height": 585
    },
    "id": "_sYxIvcXbeCN",
    "outputId": "494f3e37-0cc5-4018-c225-93ebc319bc52"
   },
   "outputs": [
    {
     "data": {
      "image/png": "[encoded data removed]",
      "text/plain": [
       "<Figure size 1080x576 with 1 Axes>"
      ]
     },
     "metadata": {
      "needs_background": "light"
     },
     "output_type": "display_data"
    }
   ],
   "source": [
    "# Dst Observed\n",
    "ax = dst['dst'][idx_event_1hr].plot(title='Dst', rot=25, figsize=(15, 8), fontsize=14, label='Dst Observed')\n",
    "# Dst Predicted\n",
    "ax.plot(dst_predicted_t0, 'b.', label='Dst Predicted t0')\n",
    "# TODO: check that the time axis is correct for t1.\n",
    "ax.plot(dst_predicted_t1, 'r.', label='Dst Predicted t1')\n",
    "plt.grid(True)\n",
    "plt.legend(fontsize=14)\n",
    "plt.tight_layout()"
   ]
  },
  {
   "cell_type": "code",
   "execution_count": 98,
   "metadata": {
    "colab": {
     "base_uri": "https://localhost:8080/",
     "height": 585
    },
    "id": "aXHnV7nubeCN",
    "outputId": "2593481b-a7d1-46d7-8c78-b9335375b4eb"
   },
   "outputs": [
    {
     "data": {
      "text/plain": [
       "\" Uncomment this block if you want to plot just the Dst predictions.\\n# Dst Predicted\\nfig = plt.figure(figsize=(15, 8))\\n\\nplt.plot(dst_predicted_t0, 'b', label='Dst Predicted t0')\\nplt.plot(dst_predicted_t1, 'r', label='Dst Predicted t1')\\nplt.grid(True)\\nplt.legend(fontsize=14)\\nplt.title('Dst Predicted')\\n\\nplt.tight_layout()\\n\""
      ]
     },
     "execution_count": 98,
     "metadata": {},
     "output_type": "execute_result"
    }
   ],
   "source": [
    "''' Uncomment this block if you want to plot just the Dst predictions.\n",
    "# Dst Predicted\n",
    "fig = plt.figure(figsize=(15, 8))\n",
    "\n",
    "plt.plot(dst_predicted_t0, 'b', label='Dst Predicted t0')\n",
    "plt.plot(dst_predicted_t1, 'r', label='Dst Predicted t1')\n",
    "plt.grid(True)\n",
    "plt.legend(fontsize=14)\n",
    "plt.title('Dst Predicted')\n",
    "\n",
    "plt.tight_layout()\n",
    "'''"
   ]
  },
  {
   "cell_type": "markdown",
   "metadata": {
    "id": "jn5uRW1kDq2p"
   },
   "source": [
    "## Student Exercise: Additional Case Studies\n",
    "\n",
    "Look at the CNN notebook and add additional events here and compare the LSTM and CNN performance for each event.\n",
    "\n",
    "<i>\n",
    "Are there events where LSTM is close to performing as well?\n",
    "</i>"
   ]
  },
  {
   "cell_type": "markdown",
   "metadata": {
    "id": "9kEgSgWZbeCN"
   },
   "source": [
    "## Student Exercise: Degraded or Adverserial Data - How robust is the model?\n",
    "\n",
    "<div class=\"alert alert-block alert-warning\">\n",
    "Students: Here's your chance to degrade the instrument measurements and run the model to see how the performance is impacted. Start simple by adding Gaussian noise (mean 0), to the least important and the most important input parameters (aka features) and evaluating a specific event. You could also fold in the SHAP methodology here.\n",
    "</div>"
   ]
  },
  {
   "cell_type": "markdown",
   "metadata": {
    "id": "mpOzLqoyDSRA"
   },
   "source": [
    "## Disclaimer\n",
    "\n",
    "The United States Department of Commerce (DOC) GitHub project code is provided on an ‘as is’ basis and the user assumes responsibility for its use. DOC has relinquished control of the information and no longer has responsibility to protect the integrity, confidentiality, or availability of the information. Any claims against the Department of Commerce stemming from the use of its GitHub project will be governed by all applicable Federal law. Any reference to specific commercial products, processes, or services by service mark, trademark, manufacturer, or otherwise, does not constitute or imply their endorsement, recommendation or favoring by the Department of Commerce. The Department of Commerce seal and logo, or the seal and logo of a DOC bureau, shall not be used in any manner to imply endorsement of any commercial product or activity by DOC or the United States Government.\n",
    "\n"
   ]
  }
 ],
 "metadata": {
  "accelerator": "TPU",
  "colab": {
   "collapsed_sections": [
    "v003LoxwbeB6",
    "kRzCSuRwbeB7",
    "YIeZxbJXbeB7",
    "CdZDisojbeB8",
    "kJQsAZGlbeB8",
    "GCrRyAmibeB9",
    "5WEhRi6RMX0o",
    "AVRI8V_AI3NS",
    "ZDtowUzbMXNx",
    "Vk0h7YPGMxUw",
    "Is66dqN0M3VP",
    "5HoW8LxqM8eS",
    "J261z_FvOK_p",
    "HqKPO3qXOWDb",
    "_islsePpOgRI",
    "DHXdMwzzTHaF",
    "wkwxYtOqT8WT",
    "nl-bgU9WHXQO",
    "yLbZKYfgEjoT",
    "dWs2MeMe0ZFm",
    "acm3GxIUbeCL",
    "jn5uRW1kDq2p",
    "9kEgSgWZbeCN"
   ],
   "name": "MagNet_LSTM_with_XAI.ipynb",
   "provenance": [],
   "toc_visible": true
  },
  "kernelspec": {
   "display_name": "Python 3 (ipykernel)",
   "language": "python",
   "name": "python3"
  },
  "language_info": {
   "codemirror_mode": {
    "name": "ipython",
    "version": 3
   },
   "file_extension": ".py",
   "mimetype": "text/x-python",
   "name": "python",
   "nbconvert_exporter": "python",
   "pygments_lexer": "ipython3",
   "version": "3.9.7"
  }
 },
 "nbformat": 4,
 "nbformat_minor": 1
}
